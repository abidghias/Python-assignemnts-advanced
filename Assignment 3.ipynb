{
 "cells": [
  {
   "cell_type": "markdown",
   "id": "original-berkeley",
   "metadata": {},
   "source": [
    "1.\n",
    "    An abstract class can be considered as a blueprint for other classes. It allows you to create a set of methods that must be created within any child classes built from the abstract class"
   ]
  },
  {
   "cell_type": "code",
   "execution_count": 2,
   "id": "suspended-workplace",
   "metadata": {},
   "outputs": [],
   "source": [
    "class Polygon(): \n",
    "  \n",
    "    # abstract method \n",
    "    def noofsides(self): \n",
    "        pass\n",
    "  \n",
    "class Triangle(Polygon): \n",
    "  \n",
    "    # overriding abstract method \n",
    "    def noofsides(self): \n",
    "        print(\"I have 3 sides\") "
   ]
  },
  {
   "cell_type": "code",
   "execution_count": 3,
   "id": "authentic-double",
   "metadata": {},
   "outputs": [
    {
     "name": "stdout",
     "output_type": "stream",
     "text": [
      "I have 3 sides\n"
     ]
    }
   ],
   "source": [
    "R = Triangle() \n",
    "R.noofsides() \n",
    "  "
   ]
  },
  {
   "cell_type": "markdown",
   "id": "becoming-beads",
   "metadata": {},
   "source": [
    "By subclassing directly from the base, we can avoid the need to register the class explicitly"
   ]
  },
  {
   "cell_type": "code",
   "execution_count": 16,
   "id": "concrete-withdrawal",
   "metadata": {},
   "outputs": [
    {
     "name": "stdout",
     "output_type": "stream",
     "text": [
      "<__main__.DoAdd42 object at 0x0000023B83826CC8>\n",
      "420\n"
     ]
    }
   ],
   "source": [
    "from abc import ABC, abstractmethod\n",
    " \n",
    "class AbstractClassExample(ABC):\n",
    " \n",
    "    def __init__(self, value):\n",
    "        self.value = value\n",
    "        super().__init__()\n",
    "    \n",
    "    @abstractmethod\n",
    "    def do_something(self):\n",
    "        x = 24\n",
    "        pass\n",
    "\n",
    "class DoAdd42(AbstractClassExample):\n",
    "\n",
    "    def do_something(self):\n",
    "        return x\n",
    "    \n",
    "class DoMul42(AbstractClassExample):\n",
    "   \n",
    "    def do_something(self):\n",
    "        return self.value * 42\n",
    "    \n",
    "x = DoAdd42(10)\n",
    "y = DoMul42(10)\n",
    "\n",
    "print(x.do_something())\n",
    "print(y.do_something())\n",
    "#it returns an object of the variable being stored"
   ]
  },
  {
   "cell_type": "markdown",
   "id": "independent-removal",
   "metadata": {},
   "source": [
    "3. super() returns a delegate object to a parent class, so you call the method you want directly on it\n",
    "\n",
    "\n",
    "\n",
    " The point is to ensure that the next method in line in the method resolution order (MRO) is called. This becomes important in multiple inheritance."
   ]
  },
  {
   "cell_type": "code",
   "execution_count": 21,
   "id": "common-shannon",
   "metadata": {},
   "outputs": [],
   "source": [
    "class Base(object):\n",
    "    def __init__(self):\n",
    "        print(\"All my functionalities are present here\")\n",
    "\n",
    "\n",
    "class Child(Base):\n",
    "    def __init__(self):\n",
    "        print(\"ChildB init'ed\")\n",
    "        super().__init__()"
   ]
  },
  {
   "cell_type": "code",
   "execution_count": 22,
   "id": "north-radius",
   "metadata": {},
   "outputs": [
    {
     "name": "stdout",
     "output_type": "stream",
     "text": [
      "ChildB init'ed\n",
      "All my functionalities are present here\n"
     ]
    },
    {
     "data": {
      "text/plain": [
       "<__main__.Child at 0x23b837e6a48>"
      ]
     },
     "execution_count": 22,
     "metadata": {},
     "output_type": "execute_result"
    }
   ],
   "source": [
    "c = Child()\n",
    "c\n",
    "#All the declerations and properties of base class are inherited in child class using the super key word"
   ]
  },
  {
   "cell_type": "code",
   "execution_count": 32,
   "id": "informal-admission",
   "metadata": {},
   "outputs": [
    {
     "name": "stdout",
     "output_type": "stream",
     "text": [
      "None\n"
     ]
    },
    {
     "ename": "TypeError",
     "evalue": "__str__ returned non-string (type NoneType)",
     "output_type": "error",
     "traceback": [
      "\u001b[1;31m---------------------------------------------------------------------------\u001b[0m",
      "\u001b[1;31mTypeError\u001b[0m                                 Traceback (most recent call last)",
      "\u001b[1;32m<ipython-input-32-4a6a0d5ec570>\u001b[0m in \u001b[0;36m<module>\u001b[1;34m()\u001b[0m\n\u001b[0;32m     14\u001b[0m \u001b[1;31m#b is not available except in the init function of the class, so if any other methods inside Test class is mentioned it'll be None\u001b[0m\u001b[1;33m\u001b[0m\u001b[1;33m\u001b[0m\u001b[1;33m\u001b[0m\u001b[0m\n\u001b[0;32m     15\u001b[0m \u001b[0ma1\u001b[0m \u001b[1;33m=\u001b[0m \u001b[0mTest\u001b[0m\u001b[1;33m(\u001b[0m\u001b[1;36m1\u001b[0m\u001b[1;33m)\u001b[0m\u001b[1;33m\u001b[0m\u001b[1;33m\u001b[0m\u001b[0m\n\u001b[1;32m---> 16\u001b[1;33m \u001b[0mprint\u001b[0m\u001b[1;33m(\u001b[0m\u001b[0ma1\u001b[0m\u001b[1;33m)\u001b[0m\u001b[1;33m\u001b[0m\u001b[1;33m\u001b[0m\u001b[0m\n\u001b[0m",
      "\u001b[1;31mTypeError\u001b[0m: __str__ returned non-string (type NoneType)"
     ]
    }
   ],
   "source": [
    "class Test:\n",
    "    a = None\n",
    "    b = None\n",
    "\n",
    "    def __init__(self, a):\n",
    "        print(self.a)\n",
    "        self.a = a\n",
    "        self._x = 123\n",
    "        self.__y = 123\n",
    "        b = 'meow'\n",
    "    \n",
    "    def __str__(self):\n",
    "        return self.b\n",
    "#b is not available except in the init function of the class, so if any other methods inside Test class is mentioned it'll be None\n",
    "a1 = Test(1)\n",
    "print(a1)"
   ]
  },
  {
   "cell_type": "raw",
   "id": "collective-robinson",
   "metadata": {},
   "source": [
    "As u can see, error has incurred because element b cannot be accessed anywhere in the class except the init method"
   ]
  },
  {
   "cell_type": "code",
   "execution_count": 35,
   "id": "plastic-pride",
   "metadata": {},
   "outputs": [
    {
     "name": "stdout",
     "output_type": "stream",
     "text": [
      "inner\n",
      "outer\n"
     ]
    }
   ],
   "source": [
    "def outer_scope():\n",
    "    x = 'outer'\n",
    "    def inner_scope():\n",
    "        x = 'inner'\n",
    "        print(x)\n",
    "    inner_scope()\n",
    "    print(x)\n",
    "outer_scope()\n",
    "#x value is first checked at the local level, if it is present it takes that value"
   ]
  },
  {
   "cell_type": "markdown",
   "id": "tribal-integration",
   "metadata": {},
   "source": [
    "If we wanted both values of x to be inner"
   ]
  },
  {
   "cell_type": "code",
   "execution_count": 38,
   "id": "novel-independence",
   "metadata": {},
   "outputs": [
    {
     "name": "stdout",
     "output_type": "stream",
     "text": [
      "inner\n",
      "inner\n"
     ]
    }
   ],
   "source": [
    "def outer_scope():\n",
    "    x = 'outer'\n",
    "    def inner_scope():\n",
    "        nonlocal x\n",
    "        x = 'inner'\n",
    "        print(x)\n",
    "    inner_scope()\n",
    "    print(x)\n",
    "outer_scope()\n",
    "#non local key word, enclosing concept\n"
   ]
  },
  {
   "cell_type": "code",
   "execution_count": 43,
   "id": "union-hunter",
   "metadata": {},
   "outputs": [
    {
     "name": "stdout",
     "output_type": "stream",
     "text": [
      "20\n",
      "20\n"
     ]
    }
   ],
   "source": [
    "x = 10\n",
    "def func():\n",
    "    global x\n",
    "    x = 20\n",
    "    print(x)\n",
    "func()\n",
    "print(x)\n",
    "#global func assigns/overrides the outer value of x to be 20 as well, same as func()"
   ]
  },
  {
   "cell_type": "code",
   "execution_count": null,
   "id": "juvenile-period",
   "metadata": {},
   "outputs": [],
   "source": []
  }
 ],
 "metadata": {
  "kernelspec": {
   "display_name": "Python 3",
   "language": "python",
   "name": "python3"
  },
  "language_info": {
   "codemirror_mode": {
    "name": "ipython",
    "version": 3
   },
   "file_extension": ".py",
   "mimetype": "text/x-python",
   "name": "python",
   "nbconvert_exporter": "python",
   "pygments_lexer": "ipython3",
   "version": "3.7.6"
  }
 },
 "nbformat": 4,
 "nbformat_minor": 5
}
