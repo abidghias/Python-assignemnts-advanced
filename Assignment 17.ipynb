{
 "cells": [
  {
   "cell_type": "markdown",
   "id": "attempted-mexican",
   "metadata": {},
   "source": [
    "'Greedy' means match longest possible string.\n",
    "\n",
    "'Non Greedy'/'Lazy' means match shortest possible string."
   ]
  },
  {
   "cell_type": "code",
   "execution_count": 1,
   "id": "likely-bacon",
   "metadata": {},
   "outputs": [
    {
     "data": {
      "text/plain": [
       "['<body>Regex Greedy Matching Example </body>']"
      ]
     },
     "execution_count": 1,
     "metadata": {},
     "output_type": "execute_result"
    }
   ],
   "source": [
    "import re\n",
    "text = \"<body>Regex Greedy Matching Example </body>\"\n",
    "re.findall('<.*>', text)\n"
   ]
  },
  {
   "cell_type": "code",
   "execution_count": 2,
   "id": "edc27cfe",
   "metadata": {},
   "outputs": [
    {
     "data": {
      "text/plain": [
       "['<body>', '</body>']"
      ]
     },
     "execution_count": 2,
     "metadata": {},
     "output_type": "execute_result"
    }
   ],
   "source": [
    "#lazy loading \n",
    "re.findall('<.*?>', text)"
   ]
  },
  {
   "cell_type": "markdown",
   "id": "f5229d5e",
   "metadata": {},
   "source": [
    "Changing from * to ? converts it from greedy to lazy loading"
   ]
  },
  {
   "cell_type": "markdown",
   "id": "d8ad6698",
   "metadata": {},
   "source": [
    "2. Greedy method can be a lazy method if the occurence of that pattern occurs only once.\n"
   ]
  },
  {
   "cell_type": "code",
   "execution_count": 6,
   "id": "2f621387",
   "metadata": {},
   "outputs": [
    {
     "data": {
      "text/plain": [
       "[('http', 'stackoverflow.com', '/')]"
      ]
     },
     "execution_count": 6,
     "metadata": {},
     "output_type": "execute_result"
    }
   ],
   "source": [
    "#3 the below is an example of a scenario where \n",
    "text = \"http://stackoverflow.com/\"\n",
    "\n",
    "re.findall('(https?|ftp)://([^/\\r\\n]+)(/[^\\r\\n]*)?',text)"
   ]
  },
  {
   "cell_type": "code",
   "execution_count": 7,
   "id": "c3a07045",
   "metadata": {},
   "outputs": [
    {
     "data": {
      "text/plain": [
       "[('stackoverflow.com', '/')]"
      ]
     },
     "execution_count": 7,
     "metadata": {},
     "output_type": "execute_result"
    }
   ],
   "source": [
    "#if i just want the host and path of the URL. So, I change the regex to include the non-capturing group\n",
    "text = \"http://stackoverflow.com/\"\n",
    "\n",
    "re.findall('(?:https?|ftp)://([^/\\r\\n]+)(/[^\\r\\n]*)?',text)"
   ]
  },
  {
   "cell_type": "markdown",
   "id": "cc419886",
   "metadata": {},
   "source": [
    "4. When there is huge amount of fata in the form of URL's and you cannot extract data without tags, it becomes a tedious process to extract each element from the URL\n",
    "\n",
    "\n",
    "Non-capturing groups match exactly the way normal groups do. However, they do not make their matched content available. If there’s no need to capture the content, they can be used to improve matching performance. Non-capturing groups are written as: (?:pattern)"
   ]
  },
  {
   "cell_type": "code",
   "execution_count": 26,
   "id": "045b4e36",
   "metadata": {},
   "outputs": [
    {
     "name": "stdout",
     "output_type": "stream",
     "text": [
      "['abidghias@gmail.com', 'ghias6@hotmail.com']\n"
     ]
    }
   ],
   "source": [
    "import re \n",
    "prog = re.compile('[a-z0-9]+@[a-z]+\\.[a-z]*')\n",
    "words = 'abidghias@gmail.com hi how are you, ghias6@hotmail.com'\n",
    "result = prog.findall(words)\n",
    "print(result)"
   ]
  },
  {
   "cell_type": "markdown",
   "id": "5b050e56",
   "metadata": {},
   "source": [
    "5. \n",
    "\n",
    "Lookaheads are used to assert that a pattern matches ahead. They are written as (?=pattern)\n",
    "\n",
    "Let’s use it to fix our pattern:\n",
    "\n",
    "\\b(\\w+)(?=\\s+a)\n",
    "\n",
    "We’ve put the space and initial a of the next word into a lookahead, so when scanning a string for matches, they are checked but not consumed."
   ]
  },
  {
   "cell_type": "code",
   "execution_count": 47,
   "id": "18a94228",
   "metadata": {},
   "outputs": [
    {
     "name": "stdout",
     "output_type": "stream",
     "text": [
      "['how']\n"
     ]
    }
   ],
   "source": [
    "\n",
    "prog = re.compile(r'\\b(\\w+)\\s+a')\n",
    "words = 'abidghias@gmail.com hi how a are you, ghias6@hotmail.com'\n",
    "result = prog.findall(words)\n",
    "print(result)"
   ]
  },
  {
   "cell_type": "code",
   "execution_count": 34,
   "id": "cbee8ab1",
   "metadata": {},
   "outputs": [
    {
     "name": "stdout",
     "output_type": "stream",
     "text": [
      "['how', 'a']\n"
     ]
    }
   ],
   "source": [
    "\n",
    "prog = re.compile(r'\\b(\\w+)(?=\\s+a)')\n",
    "words = 'abidghias@gmail.com hi how a are you, ghias6@hotmail.com'\n",
    "result = prog.findall(words)\n",
    "print(result)"
   ]
  },
  {
   "cell_type": "markdown",
   "id": "70a2be7b",
   "metadata": {},
   "source": [
    "So from the above example we can see that without using lookaheads we are consuming the matched pattern and that pattern is not recognized as a word for the next search and therefore in this case 'a' is not being matched \n",
    "\n",
    "\n",
    "The goal with this positve lookahead is to search all the words before a word which starts with the letter A \n"
   ]
  },
  {
   "cell_type": "markdown",
   "id": "604240e7",
   "metadata": {},
   "source": [
    "6. \n",
    "\n",
    "A negative lookahead asserts that its pattern does not match ahead. It is notated as (?!pattern)\n",
    "\n",
    "Let’s find all words not followed by a word that starts with an a.\n",
    "\n",
    "\\b(\\w+)\\b(?!\\s+a)\n",
    "\n",
    "We match whole words which are not followed by some space and an a.\n"
   ]
  },
  {
   "cell_type": "code",
   "execution_count": 49,
   "id": "f420e104",
   "metadata": {},
   "outputs": [
    {
     "name": "stdout",
     "output_type": "stream",
     "text": [
      "['abidghias', 'gmail', 'com', 'hi', 'are', 'you', 'ghias6', 'hotmail', 'com']\n"
     ]
    }
   ],
   "source": [
    "#so it seaches for all the words which dont have 'a' as its succedding words first letter\n",
    "\n",
    "prog = re.compile(r'\\b(\\w+)\\b(?!\\s+a)')\n",
    "words = 'abidghias@gmail.com hi how a are you, ghias6@hotmail.com'\n",
    "result = prog.findall(words)\n",
    "print(result)"
   ]
  },
  {
   "cell_type": "markdown",
   "id": "f17eed92",
   "metadata": {},
   "source": [
    "7. It becomes easier for future users to identify that particular group"
   ]
  },
  {
   "cell_type": "code",
   "execution_count": 55,
   "id": "68bc4902",
   "metadata": {},
   "outputs": [
    {
     "name": "stdout",
     "output_type": "stream",
     "text": [
      "['The', 'the']\n"
     ]
    }
   ],
   "source": [
    "#yes u can\n",
    "#question 8\n",
    "# all u need to do is change match/search to finall and it will match all the possible strings \n",
    "# with thr word the \n",
    "\n",
    "prog = re.compile(r'[T|t]he')\n",
    "words = 'The cow jumped over the moon'\n",
    "result = prog.findall(words)\n",
    "print(result)"
   ]
  },
  {
   "cell_type": "markdown",
   "id": "28379d70",
   "metadata": {},
   "source": [
    "9. Scanner object remembers the last saved position of the scanned string. but finadall does an entire string search"
   ]
  },
  {
   "cell_type": "markdown",
   "id": "e814b42a",
   "metadata": {},
   "source": [
    "10. U can name a class object with whatever name u like"
   ]
  },
  {
   "cell_type": "code",
   "execution_count": null,
   "id": "7798b3bd",
   "metadata": {},
   "outputs": [],
   "source": []
  }
 ],
 "metadata": {
  "kernelspec": {
   "display_name": "Python 3",
   "language": "python",
   "name": "python3"
  },
  "language_info": {
   "codemirror_mode": {
    "name": "ipython",
    "version": 3
   },
   "file_extension": ".py",
   "mimetype": "text/x-python",
   "name": "python",
   "nbconvert_exporter": "python",
   "pygments_lexer": "ipython3",
   "version": "3.6.9"
  }
 },
 "nbformat": 4,
 "nbformat_minor": 5
}
