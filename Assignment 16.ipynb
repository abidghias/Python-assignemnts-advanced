{
 "cells": [
  {
   "cell_type": "markdown",
   "id": "handmade-bacon",
   "metadata": {},
   "source": [
    "Regular expressions are used for searching through (usually textual) data. They allow you to search for pieces of text that match a certain form, instead of searching for a piece of text identical to the one you supply."
   ]
  },
  {
   "cell_type": "code",
   "execution_count": 1,
   "id": "consolidated-corner",
   "metadata": {},
   "outputs": [
    {
     "name": "stdout",
     "output_type": "stream",
     "text": [
      "['ab']\n",
      "['bc']\n"
     ]
    }
   ],
   "source": [
    "import re\n",
    "\n",
    "#Return a list containing every occurrence of \"ai\":\n",
    "\n",
    "txt = \"abclskdvnksldn\"\n",
    "x = re.findall(\"(ab)c+\", txt)\n",
    "print(x)\n",
    "x1 = re.findall(\"a(bc)+\",txt)\n",
    "print(x1)"
   ]
  },
  {
   "cell_type": "markdown",
   "id": "loved-rogers",
   "metadata": {},
   "source": [
    "() --> means capture and group, it only retrieved the characters inside the string "
   ]
  },
  {
   "cell_type": "markdown",
   "id": "reduced-characteristic",
   "metadata": {},
   "source": [
    "3. Just once import re and you'll be sorted"
   ]
  },
  {
   "cell_type": "markdown",
   "id": "collected-plaza",
   "metadata": {},
   "source": [
    "[a-n]\tReturns a match for any lower case character, alphabetically between a and n\t\n",
    "[^arn]\tReturns a match for any character EXCEPT a, r, and n\t\n",
    "[0123]\tReturns a match where any of the specified digits (0, 1, 2, or 3) are present\t\n",
    "[0-9]\tReturns a match for any digit between 0 and 9\t\n",
    "[0-5][0-9]\tReturns a match for any two-digit numbers from 00 and 59\t\n",
    "[a-zA-Z]\tReturns a match for any character alphabetically between a and z, lower case OR upper case\t\n",
    "[+]\tIn sets, +, *, ., |, (), $,{} has no special meaning, so [+] means: return a match for any + character in the string"
   ]
  },
  {
   "cell_type": "markdown",
   "id": "comprehensive-chemistry",
   "metadata": {},
   "source": [
    "5. The purpose of the compile method is to compile the regex pattern which will be used for matching later. It's advisable to compile regex when it'll be used several times in your program. Resaving the resulting regular expression object for reuse, which re. compile does, is more efficient"
   ]
  },
  {
   "cell_type": "code",
   "execution_count": 4,
   "id": "thorough-procedure",
   "metadata": {},
   "outputs": [
    {
     "name": "stdout",
     "output_type": "stream",
     "text": [
      "<re.Match object; span=(75, 81), match='string'>\n",
      "None\n",
      "\n",
      "\n",
      "<re.Match object; span=(0, 6), match='string'>\n",
      "<re.Match object; span=(0, 6), match='string'>\n"
     ]
    }
   ],
   "source": [
    "import re\n",
    " \n",
    "Substring ='string'\n",
    " \n",
    " \n",
    "String1 ='''We are learning regex with geeksforgeeks\n",
    "         regex is very useful for string matching.\n",
    "          It is fast too.'''\n",
    "String2 ='''string We are learning regex with geeksforgeeks\n",
    "         regex is very useful for string matching.\n",
    "          It is fast too.'''\n",
    " \n",
    "# Use of re.search() Method\n",
    "print(re.search(Substring, String1, re.IGNORECASE))\n",
    "# Use of re.match() Method\n",
    "print(re.match(Substring, String1, re.IGNORECASE))\n",
    "print(\"\\n\")\n",
    "# Use of re.search() Method\n",
    "print(re.search(Substring, String2, re.IGNORECASE))\n",
    "# Use of re.match() Method\n",
    "print(re.match(Substring, String2, re.IGNORECASE))\n"
   ]
  },
  {
   "cell_type": "markdown",
   "id": "direct-container",
   "metadata": {},
   "source": [
    "re.search() is returning match object and implies that first match found at index 69.\n",
    "re.match() is returning none because match exists in the second line of the string and re.match() only works if the match is found at the beginning of the string. "
   ]
  },
  {
   "cell_type": "code",
   "execution_count": 14,
   "id": "olive-sixth",
   "metadata": {},
   "outputs": [
    {
     "name": "stdout",
     "output_type": "stream",
     "text": [
      "['a', 'b', 'c']\n"
     ]
    }
   ],
   "source": [
    "txt = \"abc\"\n",
    "x = re.findall(\"[a-z]\", txt)\n",
    "print(x)"
   ]
  },
  {
   "cell_type": "code",
   "execution_count": 15,
   "id": "boxed-vermont",
   "metadata": {},
   "outputs": [
    {
     "name": "stdout",
     "output_type": "stream",
     "text": [
      "['a', 'b', 'c']\n"
     ]
    }
   ],
   "source": [
    "x = re.findall('a|b|c',txt)\n",
    "print(x)"
   ]
  },
  {
   "cell_type": "markdown",
   "id": "twenty-complaint",
   "metadata": {},
   "source": [
    "[] notation helps us give a range of values by which can be accessed, but | matches each character and compares each character with all the possible occurences"
   ]
  },
  {
   "cell_type": "markdown",
   "id": "downtown-eating",
   "metadata": {},
   "source": [
    "raw string notation (r\"text\") keeps regular expressions meaningful and confusion-free. Without it, every backslash ('\\') in a regular expression would have to be prefixed with another one to escape it. For example, the two following lines of code are functionally identical "
   ]
  },
  {
   "cell_type": "code",
   "execution_count": 16,
   "id": "respected-savage",
   "metadata": {},
   "outputs": [
    {
     "data": {
      "text/plain": [
       "<re.Match object; span=(0, 4), match=' ff '>"
      ]
     },
     "execution_count": 16,
     "metadata": {},
     "output_type": "execute_result"
    }
   ],
   "source": [
    "re.match(r\"\\W(.)\\1\\W\", \" ff \")"
   ]
  },
  {
   "cell_type": "code",
   "execution_count": 17,
   "id": "august-metadata",
   "metadata": {},
   "outputs": [
    {
     "data": {
      "text/plain": [
       "<re.Match object; span=(0, 4), match=' ff '>"
      ]
     },
     "execution_count": 17,
     "metadata": {},
     "output_type": "execute_result"
    }
   ],
   "source": [
    "re.match(\"\\\\W(.)\\\\1\\\\W\", \" ff \")"
   ]
  },
  {
   "cell_type": "code",
   "execution_count": null,
   "id": "familiar-retrieval",
   "metadata": {},
   "outputs": [],
   "source": []
  }
 ],
 "metadata": {
  "kernelspec": {
   "display_name": "Python 3",
   "language": "python",
   "name": "python3"
  },
  "language_info": {
   "codemirror_mode": {
    "name": "ipython",
    "version": 3
   },
   "file_extension": ".py",
   "mimetype": "text/x-python",
   "name": "python",
   "nbconvert_exporter": "python",
   "pygments_lexer": "ipython3",
   "version": "3.7.6"
  }
 },
 "nbformat": 4,
 "nbformat_minor": 5
}
