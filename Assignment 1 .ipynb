{
 "cells": [
  {
   "cell_type": "markdown",
   "id": "capable-mouth",
   "metadata": {},
   "source": [
    "1. An object-oriented paradigm is to design the program using classes and objects. The object is related to real-word entities such as book, house, pencil, etc. The oops concept focuses on writing the reusable code. It is a widespread technique to solve the problem by creating objects."
   ]
  },
  {
   "cell_type": "code",
   "execution_count": 2,
   "id": "ancient-symbol",
   "metadata": {},
   "outputs": [
    {
     "name": "stdout",
     "output_type": "stream",
     "text": [
      "Toyota 2016\n"
     ]
    }
   ],
   "source": [
    "class car:  \n",
    "    def __init__(self,modelname, year):  \n",
    "        self.modelname = modelname  \n",
    "        self.year = year  \n",
    "    def display(self):  \n",
    "        print(self.modelname,self.year)  \n",
    "\n",
    "        \n",
    "        \n",
    "#object c1 is an instance of class car and different objects can be created for the same class and this improves re-usability\n",
    "c1 = car(\"Toyota\", 2016)  \n",
    "c1.display()  "
   ]
  },
  {
   "cell_type": "code",
   "execution_count": 3,
   "id": "incomplete-clerk",
   "metadata": {},
   "outputs": [],
   "source": [
    "class Polygon:\n",
    "    def __init__(self, no_of_sides):\n",
    "        self.n = no_of_sides\n",
    "\n",
    "class Triangle(Polygon):\n",
    "    def __init__(self):\n",
    "        super().__init__(self,3)\n"
   ]
  },
  {
   "cell_type": "markdown",
   "id": "bearing-telephone",
   "metadata": {},
   "source": [
    "It is done in the class decleration(signature) of the child class"
   ]
  },
  {
   "cell_type": "markdown",
   "id": "elect-waters",
   "metadata": {},
   "source": [
    "3\n",
    "\n",
    "A blueprint for a house design is like a class description. All the houses built from that blueprint are objects of that class. A given house is an instance.\n",
    "\n",
    "  * The Object is an actual thing that is built based on the 'blue print' (like the house).\n",
    "  \n",
    "  * An instance is a virtual copy (but not a real copy) of the object\n",
    "    \n",
    "   * 'object' and 'instance' are the same thing, but the word 'instance' indicates the relationship of an object to its class.\n",
    "   \n",
    "   * Object is an instance of a class.\n",
    "   \n",
    " In answer 1, car is the name of the class, All cars are objects of the class car and c1 is an instance of the class\n",
    "   "
   ]
  },
  {
   "cell_type": "markdown",
   "id": "potential-clark",
   "metadata": {},
   "source": [
    "4. \n",
    " \n",
    " The first argument of every class method, including init , is always a reference to the current instance of the class. This argument is generally named self.\n",
    " \n",
    " In the init method, self refers to the newly created object\n",
    " \n",
    " In answer 1, self.modelname and self.year are arguments that r automatically assigned when an object of that class is created"
   ]
  },
  {
   "cell_type": "markdown",
   "id": "ahead-beverage",
   "metadata": {},
   "source": [
    "5\n",
    "\n",
    "    __init__ is a reserved keyword in python used to initialize attributes of the class when an object of that class is created. It is also known as constructor "
   ]
  },
  {
   "cell_type": "code",
   "execution_count": 5,
   "id": "widespread-airport",
   "metadata": {},
   "outputs": [],
   "source": [
    "c1 = car(\"Toyota\", 2016)  \n",
    "#c1 object created for class car with 2 arguments"
   ]
  },
  {
   "cell_type": "markdown",
   "id": "sound-minneapolis",
   "metadata": {},
   "source": [
    "6. \n",
    "\n",
    "    Instantiation − The creation of an instance of a class. Method − A special kind of function that is defined in a class definition\n",
    "\n",
    " In languages that create objects from classes, an object is an instantiation of a class. That is, it is a member of a given class that has specified values rather than variables."
   ]
  },
  {
   "cell_type": "code",
   "execution_count": 6,
   "id": "occupied-necessity",
   "metadata": {},
   "outputs": [],
   "source": [
    "class car:  \n",
    "    def __init__(self,modelname, year):  \n",
    "        self.modelname = modelname  \n",
    "        self.year = year  \n",
    "    def display(self):  \n",
    "        print(self.modelname,self.year)  \n"
   ]
  },
  {
   "cell_type": "markdown",
   "id": "silent-trading",
   "metadata": {},
   "source": [
    "7. \n",
    "    1. Use keyword class and give it a name.\n",
    "    2. define initial parameters using def __init__(self,x,y) signature"
   ]
  },
  {
   "cell_type": "code",
   "execution_count": 7,
   "id": "maritime-enclosure",
   "metadata": {},
   "outputs": [],
   "source": [
    "class Polygon:\n",
    "    def __init__(self, no_of_sides):\n",
    "        self.n = no_of_sides\n",
    "\n",
    "class Triangle(Polygon):\n",
    "    def __init__(self):\n",
    "        super().__init__(self,3)\n"
   ]
  },
  {
   "cell_type": "markdown",
   "id": "demonstrated-mortgage",
   "metadata": {},
   "source": [
    "8. \n",
    "       The class from which a class inherits is called the parent or superclass. A class which inherits from a superclass is called a subclass, also called heir class or child class\n",
    "       \n",
    "       Here triangle class inherits from polygon class and it (triangle) is the subclass\n",
    "       \n",
    "       super().__init__(self,*args) is used to call the init method of the parent class"
   ]
  },
  {
   "cell_type": "code",
   "execution_count": null,
   "id": "generous-program",
   "metadata": {},
   "outputs": [],
   "source": []
  }
 ],
 "metadata": {
  "kernelspec": {
   "display_name": "Python 3",
   "language": "python",
   "name": "python3"
  },
  "language_info": {
   "codemirror_mode": {
    "name": "ipython",
    "version": 3
   },
   "file_extension": ".py",
   "mimetype": "text/x-python",
   "name": "python",
   "nbconvert_exporter": "python",
   "pygments_lexer": "ipython3",
   "version": "3.7.6"
  }
 },
 "nbformat": 4,
 "nbformat_minor": 5
}
