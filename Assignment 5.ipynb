{
 "cells": [
  {
   "cell_type": "code",
   "execution_count": 22,
   "id": "civilian-pencil",
   "metadata": {},
   "outputs": [
    {
     "name": "stdout",
     "output_type": "stream",
     "text": [
      "In Class2\n"
     ]
    }
   ],
   "source": [
    "#When a class is derived from more than one base class it is called multiple Inheritance. \n",
    "#The derived class inherits all the features of the base case\n",
    "class Class1: \n",
    "    def m(self): \n",
    "        print(\"In Class1\")  \n",
    "        \n",
    "class Class2(Class1): \n",
    "    def m(self): \n",
    "        print(\"In Class2\") \n",
    "  \n",
    "class Class3(Class1): \n",
    "    def m(self): \n",
    "        print(\"In Class3\")   \n",
    "         \n",
    "class Class4(Class2, Class3): \n",
    "    pass   \n",
    "      \n",
    "obj = Class4() \n",
    "obj.m() \n",
    "# When you call obj.m() (m on the instance of Class4) the output is In Class2.\n",
    "# If Class4 is declared as Class4(Class3, Class2) then the output of obj.m() will be In Class3\n",
    "# So, whatever is declared first will be the overriding class in-case of similiar methods present "
   ]
  },
  {
   "cell_type": "markdown",
   "id": "regional-overview",
   "metadata": {},
   "source": [
    "2. The process of calling a related Class B to do some specific work from a class A frequently ... i.e it grabs the method of code inside another class and retrives just that part, so it acts as a delegate"
   ]
  },
  {
   "cell_type": "code",
   "execution_count": 23,
   "id": "secure-washington",
   "metadata": {},
   "outputs": [
    {
     "data": {
      "text/plain": [
       "1"
      ]
     },
     "execution_count": 23,
     "metadata": {},
     "output_type": "execute_result"
    }
   ],
   "source": [
    "class Parent:\n",
    "    def __init__(self):\n",
    "        self.child = Child()\n",
    "\n",
    "    def take_out_the_trash(self):\n",
    "        return self.child.take_out_the_trash()\n",
    "\n",
    "class Child:\n",
    "    def take_out_the_trash(self):\n",
    "        return 1\n",
    "\n",
    "# Then everywhere in our code...\n",
    "parent = Parent()\n",
    "parent.take_out_the_trash()\n",
    "\n",
    "#So here the parent is asking the child to take_out_the_trash by calling the method declared"
   ]
  },
  {
   "cell_type": "markdown",
   "id": "considerable-warren",
   "metadata": {},
   "source": [
    "3. Delegating responsibilit of one class to another is called composition. So if the methods inside the class cannot be inherited from classA to B or vice versa we can implement this concept"
   ]
  },
  {
   "cell_type": "code",
   "execution_count": 24,
   "id": "charitable-shepherd",
   "metadata": {},
   "outputs": [
    {
     "name": "stdout",
     "output_type": "stream",
     "text": [
      "190000\n"
     ]
    }
   ],
   "source": [
    "class Salary:\n",
    "    def __init__(self, pay, bonus):\n",
    "        self.pay=pay\n",
    "        self.bonus=bonus\n",
    "\n",
    "    def annual_salary(self):\n",
    "        return (self.pay*12) + self.bonus\n",
    "\n",
    "class Employee:\n",
    "    def __init__(self, name, age, pay, bonus):\n",
    "        self.name=name\n",
    "        self.age=age\n",
    "        #we call the salary class and store it as an element of this class(Employee) this essentially composition in action\n",
    "        self.obj_salary=Salary(pay, bonus)\n",
    "\n",
    "    def total_salary(self):\n",
    "        #the locally class declared variable is calling the annual salary from the salary class\n",
    "        return self.obj_salary.annual_salary()\n",
    "\n",
    "emp = Employee('max', 25, 15000, 10000)\n",
    "print(emp.total_salary())"
   ]
  },
  {
   "cell_type": "markdown",
   "id": "changing-palestinian",
   "metadata": {},
   "source": [
    "Employee cannot inherit from salary and vice versa, so pay and bonus arguments are taken which are both specific to a particular employee and calculations are done accordingly"
   ]
  },
  {
   "cell_type": "markdown",
   "id": "continuous-induction",
   "metadata": {},
   "source": [
    "4. A bound method is the one which is dependent on the instance of the class as the first argument. It passes the instance as the first argument which is used to access the variables and functions. "
   ]
  },
  {
   "cell_type": "code",
   "execution_count": 25,
   "id": "beautiful-bronze",
   "metadata": {},
   "outputs": [
    {
     "name": "stdout",
     "output_type": "stream",
     "text": [
      "<bound method A.func of <__main__.A object at 0x00000122E415C248>>\n"
     ]
    }
   ],
   "source": [
    "class A: \n",
    "  \n",
    "    def func(self, arg): \n",
    "        self.arg = arg \n",
    "        print(\"Value of arg = \", arg) \n",
    "  \n",
    "  \n",
    "# Creating an instance \n",
    "obj = A()   \n",
    "  \n",
    "# bound method \n",
    "print(obj.func) \n",
    "\n",
    "#The instance obj is automatically passed as the first argument to the function called\n",
    "#and hence the first parameter of the function will be used to access the variables/functions of the object."
   ]
  },
  {
   "cell_type": "code",
   "execution_count": 26,
   "id": "public-island",
   "metadata": {},
   "outputs": [
    {
     "name": "stdout",
     "output_type": "stream",
     "text": [
      "1\n",
      "1\n"
     ]
    }
   ],
   "source": [
    "class Test:\n",
    "    __x = 1\n",
    "    class C:\n",
    "        def test(self):\n",
    "            print(Test._Test__x)\n",
    "    c = C()\n",
    "    def test2(self):\n",
    "        print(self.__x)\n",
    "\n",
    "a = Test()\n",
    "a.test2()   # prints 1\n",
    "a.c.test()  # prints 1"
   ]
  },
  {
   "cell_type": "markdown",
   "id": "unique-hypothetical",
   "metadata": {},
   "source": [
    "Any identifier of the form __spam (at least two leading underscores, at most one trailing underscore) is textually replaced with _classname__spam, where classname is the current class name with leading underscore(s) stripped. This mangling is done without regard to the syntactic position of the identifier, as long as it occurs within the definition of a class"
   ]
  },
  {
   "cell_type": "code",
   "execution_count": null,
   "id": "cubic-module",
   "metadata": {},
   "outputs": [],
   "source": []
  },
  {
   "cell_type": "code",
   "execution_count": null,
   "id": "dying-metallic",
   "metadata": {},
   "outputs": [],
   "source": []
  }
 ],
 "metadata": {
  "kernelspec": {
   "display_name": "Python 3",
   "language": "python",
   "name": "python3"
  },
  "language_info": {
   "codemirror_mode": {
    "name": "ipython",
    "version": 3
   },
   "file_extension": ".py",
   "mimetype": "text/x-python",
   "name": "python",
   "nbconvert_exporter": "python",
   "pygments_lexer": "ipython3",
   "version": "3.7.6"
  }
 },
 "nbformat": 4,
 "nbformat_minor": 5
}
