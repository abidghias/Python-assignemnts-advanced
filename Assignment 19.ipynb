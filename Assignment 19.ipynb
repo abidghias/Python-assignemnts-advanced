{
 "cells": [
  {
   "cell_type": "markdown",
   "id": "fb8e2828",
   "metadata": {},
   "source": [
    "1. Classes provide a means of bundling data and functionality together. Creating a new class creates a new type of object, allowing new instances of that type to be made. Each class instance can have attributes attached to it for maintaining its state. Class instances can also have methods (defined by their class) for modifying their state.\n",
    "\n",
    "Object is an instance of a class, so u can have many objects for one class"
   ]
  },
  {
   "cell_type": "code",
   "execution_count": 2,
   "id": "e29f1550",
   "metadata": {},
   "outputs": [
    {
     "name": "stdout",
     "output_type": "stream",
     "text": [
      "Rodger details:\n",
      "Rodger is a dog\n",
      "Breed:  Pug\n",
      "Color:  brown\n",
      "\n",
      "Buzo details:\n",
      "Buzo is a dog\n",
      "Breed:  Bulldog\n",
      "Color:  black\n",
      "\n",
      "Accessing class variable using class name\n",
      "dog\n"
     ]
    }
   ],
   "source": [
    "# Class for Dog\n",
    "class Dog:\n",
    "   \n",
    "    # Class Variable\n",
    "    animal = 'dog'            \n",
    "   \n",
    "    # The init method or constructor\n",
    "    def __init__(self, breed, color):\n",
    "     \n",
    "        # Instance Variable    \n",
    "        self.breed = breed\n",
    "        self.color = color       \n",
    "    \n",
    "# Objects of Dog class\n",
    "Rodger = Dog(\"Pug\", \"brown\")\n",
    "Buzo = Dog(\"Bulldog\", \"black\")\n",
    " \n",
    "print('Rodger details:')  \n",
    "print('Rodger is a', Rodger.animal)\n",
    "print('Breed: ', Rodger.breed)\n",
    "print('Color: ', Rodger.color)\n",
    " \n",
    "print('\\nBuzo details:')  \n",
    "print('Buzo is a', Buzo.animal)\n",
    "print('Breed: ', Buzo.breed)\n",
    "print('Color: ', Buzo.color)\n",
    " \n",
    "# Class variables can be accessed using class\n",
    "# name also\n",
    "print(\"\\nAccessing class variable using class name\")\n",
    "print(Dog.animal) "
   ]
  },
  {
   "cell_type": "raw",
   "id": "2105f5d0",
   "metadata": {},
   "source": [
    "2. Instance variables are for data, unique to each instance, Usually declared while creating an object for that class\n",
    "\n",
    "\n",
    "When an object of a class is created, the class is said to be instantiated. All the instances share the attributes and the behavior of the class. But the values of those attributes, i.e. the state are unique for each object. A single class may have any number of instances."
   ]
  },
  {
   "cell_type": "raw",
   "id": "0adc2e9f",
   "metadata": {},
   "source": [
    "3. Class creates a user-defined data structure, which holds its own data members and member functions, which can be accessed and used by creating an instance of that class. A class is like a blueprint for an object.\n",
    "\n",
    "So u can store things like class variables which will remain permenant and also functions inside the class which can be acceseed through objects and this creates a generally cleaner code as oppsosed to functional programming in the case of large amount of code"
   ]
  },
  {
   "cell_type": "markdown",
   "id": "af6379a7",
   "metadata": {},
   "source": [
    "4. So u have 2 types of methods in a class: the __init__ method and a regular method. \n",
    "The init method instantiates all the necessary declerations of the variables which will be used during the decleration of that object, this will be clear with an example.\n",
    "\n",
    "A regular method is different from a regular function in python by the following\n",
    "\n",
    "Python method is called on an object, unlike a function. ... Since we call a method on an object, it can access the data within it. A method may alter an object's state, but Python function usually only operates on it, and then prints something or returns a value"
   ]
  },
  {
   "cell_type": "code",
   "execution_count": 3,
   "id": "e4038b8e",
   "metadata": {},
   "outputs": [
    {
     "name": "stdout",
     "output_type": "stream",
     "text": [
      "Hello, my name is Nikhil\n"
     ]
    }
   ],
   "source": [
    "class Person:\n",
    "   \n",
    "# init method or constructor \n",
    "    def __init__(self, name):\n",
    "        self.name = name\n",
    "   \n",
    "# Sample Method \n",
    "    def say_hi(self):\n",
    "        print('Hello, my name is', self.name)\n",
    "   \n",
    "p = Person('Nikhil')\n",
    "p.say_hi()"
   ]
  },
  {
   "cell_type": "code",
   "execution_count": 5,
   "id": "0bdea94a",
   "metadata": {},
   "outputs": [],
   "source": [
    "#5 Inheritance\n",
    "\n",
    "class Person:\n",
    "    def __init__(self, fname, lname):\n",
    "        self.firstname = fname\n",
    "        self.lastname = lname\n",
    "\n",
    "    def printname(self):\n",
    "        print(self.firstname, self.lastname)\n",
    "        \n",
    "class Student(Person):\n",
    "    pass"
   ]
  },
  {
   "cell_type": "markdown",
   "id": "2650103a",
   "metadata": {},
   "source": [
    "5.  1. Single inheritance: When a child class inherits from only one parent class, it is called single inheritance. We saw an example above.\n",
    "\n",
    "    2. Multiple inheritance: When a child class inherits from multiple parent classes, it is called multiple inheritance. \n",
    "\n",
    "    3. Multilevel inheritance: When we have a child and grandchild relationship.\n"
   ]
  },
  {
   "cell_type": "raw",
   "id": "8238c767",
   "metadata": {},
   "source": [
    " 6. There are 2 levels of encapsulation \n",
    "  1. Protected : members of the class that cannot be accessed outside the class but can be accessed from within the class and its subclasses. To accomplish this in Python, just follow the convention by prefixing the name of the member by a single underscore “_”.\n",
    "  \n",
    "  2. Private : Private members are similar to protected members, the difference is that the class members declared private should neither be accessed outside the class nor by any base class. In Python, there is no existence of Private instance variables that cannot be accessed except inside a class. However, to define a private member prefix the member name with double underscore “__”.\n",
    "  "
   ]
  },
  {
   "cell_type": "markdown",
   "id": "a3474229",
   "metadata": {},
   "source": [
    "7. Instance variables are for data, unique to each instance and class variables are for attributes and methods shared by all instances of the class. Instance variables are variables whose value is assigned inside a constructor or method with self whereas class variables are variables whose value is assigned in the class."
   ]
  },
  {
   "cell_type": "raw",
   "id": "a0f914ee",
   "metadata": {},
   "source": [
    "8. Self is a reserved keyword used only during the initialization of the class variables. it is like a pointer in a constructor class where by it points towards a particluar variable name and initialized in a class constructor\n",
    "It runs as soon as an object of a class is instantiated. The method is useful to do any initialization you want to do with your object."
   ]
  },
  {
   "cell_type": "raw",
   "id": "7b7fd3c7",
   "metadata": {},
   "source": [
    "9. These functions __radd__ are only called if the left operand does not support the corresponding operation and the operands are of different types.\n",
    "\n",
    "myobj + 4 is interpreted as myobj.__add__(4) but the other way round raises an error; this is where radd comes into picture"
   ]
  },
  {
   "cell_type": "code",
   "execution_count": 9,
   "id": "a721075d",
   "metadata": {},
   "outputs": [
    {
     "name": "stdout",
     "output_type": "stream",
     "text": [
      "b\n",
      "['__add__', '__class__', '__contains__', '__delattr__', '__dir__', '__doc__', '__eq__', '__format__', '__ge__', '__getattribute__', '__getitem__', '__getnewargs__', '__gt__', '__hash__', '__init__', '__init_subclass__', '__iter__', '__le__', '__len__', '__lt__', '__mod__', '__mul__', '__ne__', '__new__', '__reduce__', '__reduce_ex__', '__repr__', '__rmod__', '__rmul__', '__setattr__', '__sizeof__', '__str__', '__subclasshook__', 'capitalize', 'casefold', 'center', 'count', 'encode', 'endswith', 'expandtabs', 'find', 'format', 'format_map', 'index', 'isalnum', 'isalpha', 'isdecimal', 'isdigit', 'isidentifier', 'islower', 'isnumeric', 'isprintable', 'isspace', 'istitle', 'isupper', 'join', 'ljust', 'lower', 'lstrip', 'maketrans', 'partition', 'replace', 'rfind', 'rindex', 'rjust', 'rpartition', 'rsplit', 'rstrip', 'split', 'splitlines', 'startswith', 'strip', 'swapcase', 'title', 'translate', 'upper', 'zfill']\n"
     ]
    }
   ],
   "source": [
    "import inspect\n",
    "class Employee:\n",
    "    def __init__(self,fname,lname):\n",
    "        self.fname=fname\n",
    "        self.lname=lname\n",
    "\n",
    "    def insp(emp):\n",
    "        inspect.isclass(emp)\n",
    "        while True:\n",
    "            print(dir(emp))\n",
    "            break\n",
    "            \n",
    "Shivansh=Employee(\"Shivansh\",\"Varshney\")\n",
    "emp=input()\n",
    "insp(emp)"
   ]
  },
  {
   "cell_type": "markdown",
   "id": "fd99c408",
   "metadata": {},
   "source": [
    "Reflection refers to the ability for code to be able to examine attributes about objects that might be passed as parameters to a function. For example, if we write type(obj) then Python will return an object which represents the type of obj.\n",
    "\n",
    "It is just used to perform sanity checks and ensure that the object being created is actually what is being intended and the same is being done in the back end \n"
   ]
  },
  {
   "cell_type": "raw",
   "id": "c3ae340b",
   "metadata": {},
   "source": [
    "11. Magic method"
   ]
  },
  {
   "cell_type": "raw",
   "id": "019af096",
   "metadata": {},
   "source": [
    "12. Yes, all its methods are inherited in the subclasses\n",
    "\n"
   ]
  },
  {
   "cell_type": "code",
   "execution_count": 11,
   "id": "1ea14a44",
   "metadata": {},
   "outputs": [],
   "source": [
    "class Deck(list):\n",
    "    def __init__(self):\n",
    "        super(Deck,self).__init__([Card(i) for i in range(52)])\n",
    "\n",
    "class Even(Deck):\n",
    "    def __init__(self):\n",
    "        super(Even,self).__init__(self)\n",
    "        [self.remove(card) for card in self if card.rank()==2]"
   ]
  },
  {
   "cell_type": "markdown",
   "id": "22157bf0",
   "metadata": {},
   "source": [
    "Here we notice that the implementation of the Deck class(parent) is altered in the child class by using a self (pointer) method"
   ]
  },
  {
   "cell_type": "code",
   "execution_count": null,
   "id": "686baa3f",
   "metadata": {},
   "outputs": [],
   "source": []
  }
 ],
 "metadata": {
  "kernelspec": {
   "display_name": "Python 3",
   "language": "python",
   "name": "python3"
  },
  "language_info": {
   "codemirror_mode": {
    "name": "ipython",
    "version": 3
   },
   "file_extension": ".py",
   "mimetype": "text/x-python",
   "name": "python",
   "nbconvert_exporter": "python",
   "pygments_lexer": "ipython3",
   "version": "3.6.9"
  }
 },
 "nbformat": 4,
 "nbformat_minor": 5
}
