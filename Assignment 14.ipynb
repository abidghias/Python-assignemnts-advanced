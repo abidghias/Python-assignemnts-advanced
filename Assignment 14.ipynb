{
 "cells": [
  {
   "cell_type": "code",
   "execution_count": 4,
   "id": "bronze-enhancement",
   "metadata": {},
   "outputs": [
    {
     "name": "stdout",
     "output_type": "stream",
     "text": [
      "1\n",
      "2\n",
      "3\n",
      "4\n",
      "5\n"
     ]
    }
   ],
   "source": [
    "x = 1\n",
    "while x <= 5:\n",
    "    print(x)\n",
    "    x += 1\n",
    "    "
   ]
  },
  {
   "cell_type": "markdown",
   "id": "spectacular-split",
   "metadata": {},
   "source": [
    "The assignment operator in this case dynamically updates(increments) the value."
   ]
  },
  {
   "cell_type": "code",
   "execution_count": 8,
   "id": "purple-colonial",
   "metadata": {},
   "outputs": [],
   "source": [
    "a,b = 1,2\n",
    "a = a + b\n",
    "b = a\n",
    "\n"
   ]
  },
  {
   "cell_type": "code",
   "execution_count": 12,
   "id": "senior-gallery",
   "metadata": {},
   "outputs": [],
   "source": [
    "#3\n",
    "a = [0]*100"
   ]
  },
  {
   "cell_type": "code",
   "execution_count": 13,
   "id": "floating-boundary",
   "metadata": {},
   "outputs": [],
   "source": [
    "#4\n",
    "b = [1,2,3]*99"
   ]
  },
  {
   "cell_type": "code",
   "execution_count": 33,
   "id": "removable-payment",
   "metadata": {},
   "outputs": [
    {
     "name": "stdout",
     "output_type": "stream",
     "text": [
      "0 0 0 0 0 \n",
      "0 0 0 0 0 \n",
      "0 0 0 0 0 \n",
      "0 0 0 0 0 \n",
      "0 0 0 0 0 \n"
     ]
    }
   ],
   "source": [
    "cinema = []\n",
    "\n",
    "#initializing\n",
    "for j in range(5):\n",
    "    column = []\n",
    "    for i in range(5):\n",
    "        column.append(0)\n",
    "    cinema.append(column)\n",
    "\n",
    "for column in cinema:\n",
    "    for item in column:\n",
    "        print(item, end = \" \")\n",
    "    print()\n"
   ]
  },
  {
   "cell_type": "code",
   "execution_count": 44,
   "id": "boolean-calculator",
   "metadata": {},
   "outputs": [
    {
     "data": {
      "text/plain": [
       "['a', 'b', 'i', 'd']"
      ]
     },
     "execution_count": 44,
     "metadata": {},
     "output_type": "execute_result"
    }
   ],
   "source": [
    "x = 'abid'\n",
    "\n",
    "def split(word):\n",
    "    return [char for char in word]\n",
    "\n",
    "split(x)"
   ]
  },
  {
   "cell_type": "code",
   "execution_count": 45,
   "id": "interesting-relay",
   "metadata": {},
   "outputs": [
    {
     "data": {
      "text/plain": [
       "['h', 'u', 'm', 'a', 'n']"
      ]
     },
     "execution_count": 45,
     "metadata": {},
     "output_type": "execute_result"
    }
   ],
   "source": [
    "#6\n",
    "h_letters = [ letter for letter in 'human' ]\n",
    "h_lettersetters"
   ]
  },
  {
   "cell_type": "markdown",
   "id": "fifteen-being",
   "metadata": {},
   "source": [
    "U Can simply go to the folder where the python program is present and type \n",
    "\n",
    "python filename.py.\n",
    "This is also possible in the IDLE by opening the terminal\n"
   ]
  },
  {
   "cell_type": "markdown",
   "id": "social-reservoir",
   "metadata": {},
   "source": [
    "Because everything's a first-class object in Python, there are relatively few obscure special cases.\n",
    "\n",
    "In Java, for example, there are primitive types (int, bool, double, char) that aren't proper objects. That's why Java has to introduce Integer, Boolean, Double, and Character as first-class types. This can be hard to teach to beginners -- it isn't obvious why both a primitive type and a class have to exist side-by-side."
   ]
  },
  {
   "cell_type": "code",
   "execution_count": 50,
   "id": "suited-romania",
   "metadata": {},
   "outputs": [
    {
     "data": {
      "text/plain": [
       "'HELLO THERE'"
      ]
     },
     "execution_count": 50,
     "metadata": {},
     "output_type": "execute_result"
    }
   ],
   "source": [
    "def uppercase_decorator(function):\n",
    "    def wrapper():\n",
    "        func = function()\n",
    "        make_uppercase = func.upper()\n",
    "        return make_uppercase\n",
    "\n",
    "    return wrapper\n",
    "\n",
    "@uppercase_decorator\n",
    "def say_hi():\n",
    "    return 'hello there'\n",
    "\n",
    "say_hi()"
   ]
  },
  {
   "cell_type": "markdown",
   "id": "superb-petroleum",
   "metadata": {},
   "source": [
    "Wrapper functions can be used as an interface to adapt to the existing codes, so as to save you from modifying your codes back and forth.\n",
    "\n",
    "\n",
    "Decorators allow us to wrap another function in order to extend the behavior of the wrapped function, without permanently modifying it\n",
    "\n",
    "Wrapped feature, is the object being passed from the outer function as in the above example it is 'hello there'"
   ]
  },
  {
   "cell_type": "code",
   "execution_count": 55,
   "id": "identified-freeze",
   "metadata": {},
   "outputs": [],
   "source": [
    "def hi(x):\n",
    "    yield \"hello there\" + x"
   ]
  },
  {
   "cell_type": "code",
   "execution_count": 57,
   "id": "forced-intention",
   "metadata": {},
   "outputs": [
    {
     "data": {
      "text/plain": [
       "<generator object hi at 0x0000021A044E0748>"
      ]
     },
     "execution_count": 57,
     "metadata": {},
     "output_type": "execute_result"
    }
   ],
   "source": [
    "hi('a')"
   ]
  },
  {
   "cell_type": "markdown",
   "id": "sexual-pharmaceutical",
   "metadata": {},
   "source": [
    "A generator returns am iterator object which can be accessed by using an iterator to iterate over the result. like using next() function (exampple)"
   ]
  },
  {
   "cell_type": "markdown",
   "id": "significant-retirement",
   "metadata": {},
   "source": [
    "yield must be used to store that result in memeory as an iterator object\n"
   ]
  },
  {
   "cell_type": "markdown",
   "id": "recognized-double",
   "metadata": {},
   "source": [
    "Benifits of Generators:\n",
    "    terators allow lazy evaluation, only generating the next element of an iterable object when requested. This is useful for very large data sets.\n",
    "Iterators and generators can only be iterated over once.\n",
    "Generator Functions are better than Iterators.\n",
    "    "
   ]
  },
  {
   "cell_type": "code",
   "execution_count": null,
   "id": "incorrect-authorization",
   "metadata": {},
   "outputs": [],
   "source": []
  }
 ],
 "metadata": {
  "kernelspec": {
   "display_name": "Python 3",
   "language": "python",
   "name": "python3"
  },
  "language_info": {
   "codemirror_mode": {
    "name": "ipython",
    "version": 3
   },
   "file_extension": ".py",
   "mimetype": "text/x-python",
   "name": "python",
   "nbconvert_exporter": "python",
   "pygments_lexer": "ipython3",
   "version": "3.7.6"
  }
 },
 "nbformat": 4,
 "nbformat_minor": 5
}
