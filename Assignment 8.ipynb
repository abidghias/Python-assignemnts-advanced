{
 "cells": [
  {
   "cell_type": "markdown",
   "id": "rational-border",
   "metadata": {},
   "source": [
    "1. \n",
    "* You must now use raise Exception(args) instead of raise Exception, args. Additionally, you can no longer explicitly specify a traceback\n",
    "* Catching exceptions. You must now use except SomeException as variable instead of except SomeException, variable. Moreover, the variable is explicitly deleted when the except block is left.\n",
    "* Almost all exceptions should actually derive from Exception"
   ]
  },
  {
   "cell_type": "markdown",
   "id": "metallic-tucson",
   "metadata": {},
   "source": [
    "2. \n",
    "    * Handler objects are responsible for dispatching the appropriate log messages (based on the log messages’ severity) to the handler’s specified destination, so the specific problem during run time can be evaluated either through storage of the error/warning message in a seperate file\n",
    "    * Using the new class exceptions, the proper exception to raise would be AttributeError(attrname); the compatibility forms ensure that the old code doesn't break\n",
    "    \n",
    "    So both methods are trying to ensure the graceful handling of potential errors and also developing custom messages and responses to specific common types by runnning multiple test cases before actual deployment\n",
    "    "
   ]
  },
  {
   "cell_type": "markdown",
   "id": "executive-latin",
   "metadata": {},
   "source": [
    "3. \n",
    "* Explicit Exception Chaining\n",
    "* Traceback Attribute : \n",
    "    A traceback is a report containing the function calls made in your code at a specific point\n",
    "* Enhanced Reporting : The default exception handler will be modified to report chained exceptions. The chain of exceptions is traversed by following the __cause__ and __context__ attributes, with __cause__ taking priority. In keeping with the chronological order of tracebacks, the most recently raised exception is displayed last"
   ]
  },
  {
   "cell_type": "code",
   "execution_count": 2,
   "id": "thousand-samoa",
   "metadata": {},
   "outputs": [
    {
     "name": "stdout",
     "output_type": "stream",
     "text": [
      "Handling run-time error: division by zero\n"
     ]
    }
   ],
   "source": [
    "def this_fails():\n",
    "    x = 1/0\n",
    "    \n",
    "try:\n",
    "    this_fails()\n",
    "except ZeroDivisionError as err:\n",
    "    print('Handling run-time error:', err)"
   ]
  },
  {
   "cell_type": "code",
   "execution_count": 6,
   "id": "unnecessary-senegal",
   "metadata": {},
   "outputs": [
    {
     "name": "stdout",
     "output_type": "stream",
     "text": [
      "An exception flew by!\n"
     ]
    },
    {
     "ename": "NameError",
     "evalue": "HiThere",
     "output_type": "error",
     "traceback": [
      "\u001b[1;31m---------------------------------------------------------------------------\u001b[0m",
      "\u001b[1;31mNameError\u001b[0m                                 Traceback (most recent call last)",
      "\u001b[1;32m<ipython-input-6-d6f52ecf09a1>\u001b[0m in \u001b[0;36m<module>\u001b[1;34m()\u001b[0m\n\u001b[0;32m      1\u001b[0m \u001b[1;32mtry\u001b[0m\u001b[1;33m:\u001b[0m\u001b[1;33m\u001b[0m\u001b[1;33m\u001b[0m\u001b[0m\n\u001b[1;32m----> 2\u001b[1;33m     \u001b[1;32mraise\u001b[0m \u001b[0mNameError\u001b[0m\u001b[1;33m(\u001b[0m\u001b[1;34m'HiThere'\u001b[0m\u001b[1;33m)\u001b[0m\u001b[1;33m\u001b[0m\u001b[1;33m\u001b[0m\u001b[0m\n\u001b[0m\u001b[0;32m      3\u001b[0m \u001b[1;32mexcept\u001b[0m \u001b[0mNameError\u001b[0m\u001b[1;33m:\u001b[0m\u001b[1;33m\u001b[0m\u001b[1;33m\u001b[0m\u001b[0m\n\u001b[0;32m      4\u001b[0m     \u001b[0mprint\u001b[0m\u001b[1;33m(\u001b[0m\u001b[1;34m'An exception flew by!'\u001b[0m\u001b[1;33m)\u001b[0m\u001b[1;33m\u001b[0m\u001b[1;33m\u001b[0m\u001b[0m\n\u001b[0;32m      5\u001b[0m     \u001b[1;32mraise\u001b[0m\u001b[1;33m\u001b[0m\u001b[1;33m\u001b[0m\u001b[0m\n",
      "\u001b[1;31mNameError\u001b[0m: HiThere"
     ]
    }
   ],
   "source": [
    "try:\n",
    "    raise NameError('HiThere')\n",
    "except NameError:\n",
    "    print('An exception flew by!')\n",
    "    raise\n",
    "#If you need to determine whether an exception was raised but don’t intend to handle it,\n",
    "#a simpler form of the raise statement allows you to re-raise the exception"
   ]
  },
  {
   "cell_type": "markdown",
   "id": "obvious-timeline",
   "metadata": {},
   "source": [
    "5. \n",
    "    Becasue exceptions like SystemExit and StandardError can be Systematically defined and handled as opposed to string based exceptions because string based exceptions posed some particularly nasty backward compatibility problems"
   ]
  },
  {
   "cell_type": "code",
   "execution_count": null,
   "id": "social-endorsement",
   "metadata": {},
   "outputs": [],
   "source": []
  }
 ],
 "metadata": {
  "kernelspec": {
   "display_name": "Python 3",
   "language": "python",
   "name": "python3"
  },
  "language_info": {
   "codemirror_mode": {
    "name": "ipython",
    "version": 3
   },
   "file_extension": ".py",
   "mimetype": "text/x-python",
   "name": "python",
   "nbconvert_exporter": "python",
   "pygments_lexer": "ipython3",
   "version": "3.7.6"
  }
 },
 "nbformat": 4,
 "nbformat_minor": 5
}
