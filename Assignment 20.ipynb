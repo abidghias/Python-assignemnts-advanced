{
 "cells": [
  {
   "cell_type": "code",
   "execution_count": 1,
   "id": "5b2d60a0",
   "metadata": {},
   "outputs": [
    {
     "name": "stdout",
     "output_type": "stream",
     "text": [
      "0.10000000000000000555\n"
     ]
    }
   ],
   "source": [
    "print(f\"{0.1:.20f}\") "
   ]
  },
  {
   "cell_type": "markdown",
   "id": "e913e242",
   "metadata": {},
   "source": [
    "1. As u can see in the above example the above number is not exactly 0.1 and has a minor deviation. this is the issue with floats in python. this can become increasingly problematic for complex operations and can create heavy deviations from the intended result\n",
    "\n",
    "Enter the decimal module "
   ]
  },
  {
   "cell_type": "code",
   "execution_count": 2,
   "id": "0c08684a",
   "metadata": {},
   "outputs": [
    {
     "name": "stdout",
     "output_type": "stream",
     "text": [
      "0.1\n",
      "0.10000000000000000000\n"
     ]
    }
   ],
   "source": [
    "import decimal \n",
    "x = decimal.Decimal(\"0.1\")\n",
    "\n",
    "print(x)            # 0.1\n",
    "print(f\"{x:.20f}\")  # 0.10000000000000000000"
   ]
  },
  {
   "cell_type": "code",
   "execution_count": 3,
   "id": "64a4f80c",
   "metadata": {},
   "outputs": [
    {
     "name": "stdout",
     "output_type": "stream",
     "text": [
      "1.2\n",
      "1.20000000000000000000\n"
     ]
    }
   ],
   "source": [
    "x = decimal.Decimal(\"1.2\")\n",
    "\n",
    "print(x)            # 0.1\n",
    "print(f\"{x:.20f}\")  # 0.10000000000000000000"
   ]
  },
  {
   "cell_type": "code",
   "execution_count": 4,
   "id": "1fc624b8",
   "metadata": {},
   "outputs": [
    {
     "name": "stdout",
     "output_type": "stream",
     "text": [
      "1.2000\n",
      "1.20000000000000000000\n"
     ]
    }
   ],
   "source": [
    "x = decimal.Decimal(\"1.2000\")\n",
    "\n",
    "print(x)            # 0.1\n",
    "print(f\"{x:.20f}\")  # 0.10000000000000000000"
   ]
  },
  {
   "cell_type": "code",
   "execution_count": 5,
   "id": "267a059c",
   "metadata": {},
   "outputs": [
    {
     "data": {
      "text/plain": [
       "True"
      ]
     },
     "execution_count": 5,
     "metadata": {},
     "output_type": "execute_result"
    }
   ],
   "source": [
    "decimal.Decimal(\"1.2000\") == decimal.Decimal(\"1.2\")"
   ]
  },
  {
   "cell_type": "markdown",
   "id": "08547f31",
   "metadata": {},
   "source": [
    "4. Because it will inherit all the issues of float to begin with "
   ]
  },
  {
   "cell_type": "code",
   "execution_count": 5,
   "id": "02b26e3f",
   "metadata": {},
   "outputs": [
    {
     "name": "stdout",
     "output_type": "stream",
     "text": [
      "13.50\n",
      "16.497999999999998\n"
     ]
    }
   ],
   "source": [
    "a = 13.498\n",
    "print(\"%.2f\" % a)\n",
    "result = a + 3\n",
    "print(result)\n",
    "# so u can combine decimal with integers and also mention the number of digits after the decimal point"
   ]
  },
  {
   "cell_type": "raw",
   "id": "77b82d51",
   "metadata": {},
   "source": [
    "6. Since we know that decimal has higher precision than float when it comes to exact calculation. however it does not have much of an impact when combining simple basic numbers\n"
   ]
  },
  {
   "cell_type": "code",
   "execution_count": 7,
   "id": "b76536c4",
   "metadata": {},
   "outputs": [
    {
     "name": "stdout",
     "output_type": "stream",
     "text": [
      "0.1000000000000000055511151231257827021181583404541015625\n"
     ]
    }
   ],
   "source": [
    "import decimal\n",
    "x = decimal.Decimal(0.1)\n",
    "print(x) \n"
   ]
  },
  {
   "cell_type": "markdown",
   "id": "805a9d80",
   "metadata": {},
   "source": [
    "Converting straight from a float causes our Decimal object to inherit all of the imprecision that we were trying to avoid in the first place. There may be cases where you want to preserve this imprecision for some reason"
   ]
  },
  {
   "cell_type": "code",
   "execution_count": 12,
   "id": "378fb2d1",
   "metadata": {},
   "outputs": [
    {
     "data": {
      "text/plain": [
       "Fraction(2476979795053773, 2251799813685248)"
      ]
     },
     "execution_count": 12,
     "metadata": {},
     "output_type": "execute_result"
    }
   ],
   "source": [
    "from fractions import Fraction\n",
    "Fraction(16, -10)\n",
    "Fraction(1.1)"
   ]
  },
  {
   "cell_type": "code",
   "execution_count": 14,
   "id": "c446f4df",
   "metadata": {},
   "outputs": [
    {
     "data": {
      "text/plain": [
       "Decimal('1.100000000000000088817841970012523233890533447265625')"
      ]
     },
     "execution_count": 14,
     "metadata": {},
     "output_type": "execute_result"
    }
   ],
   "source": [
    "x = decimal.Decimal(16/-10)\n",
    "y = decimal.Decimal(1.1)\n",
    "y"
   ]
  },
  {
   "cell_type": "markdown",
   "id": "f3fb0492",
   "metadata": {},
   "source": [
    "As u can see the fraction class returns the constructs a Fraction representing the exact value of dec"
   ]
  },
  {
   "cell_type": "code",
   "execution_count": 23,
   "id": "10bb8804",
   "metadata": {},
   "outputs": [
    {
     "data": {
      "text/plain": [
       "1"
      ]
     },
     "execution_count": 23,
     "metadata": {},
     "output_type": "execute_result"
    }
   ],
   "source": [
    "-7% 4"
   ]
  },
  {
   "cell_type": "code",
   "execution_count": 25,
   "id": "a6a576b7",
   "metadata": {},
   "outputs": [
    {
     "data": {
      "text/plain": [
       "Decimal('-3')"
      ]
     },
     "execution_count": 25,
     "metadata": {},
     "output_type": "execute_result"
    }
   ],
   "source": [
    "#8\n",
    "from decimal import *\n",
    "Decimal(-7) % Decimal(4)\n",
    "# u can notice the difference"
   ]
  },
  {
   "cell_type": "code",
   "execution_count": 26,
   "id": "66e15804",
   "metadata": {},
   "outputs": [
    {
     "data": {
      "text/plain": [
       "Fraction(1, 2)"
      ]
     },
     "execution_count": 26,
     "metadata": {},
     "output_type": "execute_result"
    }
   ],
   "source": [
    "Fraction(1,2)"
   ]
  },
  {
   "cell_type": "code",
   "execution_count": 29,
   "id": "f4378fd5",
   "metadata": {},
   "outputs": [
    {
     "data": {
      "text/plain": [
       "Fraction(1, 2)"
      ]
     },
     "execution_count": 29,
     "metadata": {},
     "output_type": "execute_result"
    }
   ],
   "source": [
    "\n",
    "Fraction(5,10)"
   ]
  },
  {
   "cell_type": "markdown",
   "id": "1dac90e8",
   "metadata": {},
   "source": [
    "Yes its the same because it returns the least number the numerator and denominator which can be divided, in this case 5/10 can also be written as 1/2"
   ]
  },
  {
   "cell_type": "markdown",
   "id": "63f7a829",
   "metadata": {},
   "source": [
    "10. Containment because fraction instance can be constructed from a pair of integers"
   ]
  },
  {
   "cell_type": "code",
   "execution_count": null,
   "id": "3ee7e7fa",
   "metadata": {},
   "outputs": [],
   "source": []
  }
 ],
 "metadata": {
  "kernelspec": {
   "display_name": "Python 3",
   "language": "python",
   "name": "python3"
  },
  "language_info": {
   "codemirror_mode": {
    "name": "ipython",
    "version": 3
   },
   "file_extension": ".py",
   "mimetype": "text/x-python",
   "name": "python",
   "nbconvert_exporter": "python",
   "pygments_lexer": "ipython3",
   "version": "3.6.9"
  }
 },
 "nbformat": 4,
 "nbformat_minor": 5
}
