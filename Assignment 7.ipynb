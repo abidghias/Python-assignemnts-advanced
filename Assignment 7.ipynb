{
 "cells": [
  {
   "cell_type": "markdown",
   "id": "rocky-penguin",
   "metadata": {},
   "source": [
    "1. Try block is the part of the code where it is expected to fail so that exception can be raised and be caught in the except block"
   ]
  },
  {
   "cell_type": "markdown",
   "id": "continental-planner",
   "metadata": {},
   "source": [
    "2. \n",
    "* try and except\n",
    "* try,except and else\n",
    "* try, except, else and finally"
   ]
  },
  {
   "cell_type": "raw",
   "id": "spoken-maldives",
   "metadata": {},
   "source": [
    "3. raise is used for custom exceptions with custom messages being displayed in the output screen"
   ]
  },
  {
   "cell_type": "raw",
   "id": "opposite-sending",
   "metadata": {},
   "source": [
    "4. Assert statement checks if the condition that follows it is true or not, failing to which it goes to the except block\n",
    "    It is similiar to if,else block but this is more succint\n",
    "    "
   ]
  },
  {
   "cell_type": "markdown",
   "id": "confirmed-mediterranean",
   "metadata": {},
   "source": [
    "5. with open(filename) as file:\n",
    "    \n",
    "    We don't have to write file close statment here because it is done automatically, \n",
    "    'as' gives the file we r opening a sperate name with which we can call it by \n",
    "        eg. import numpy as np\n",
    "       \n",
    "       All operations of numpy can be called with np as it is easier\n",
    "           It is similiar to the \n",
    "       \n"
   ]
  },
  {
   "cell_type": "code",
   "execution_count": null,
   "id": "medieval-heath",
   "metadata": {},
   "outputs": [],
   "source": []
  }
 ],
 "metadata": {
  "kernelspec": {
   "display_name": "Python 3",
   "language": "python",
   "name": "python3"
  },
  "language_info": {
   "codemirror_mode": {
    "name": "ipython",
    "version": 3
   },
   "file_extension": ".py",
   "mimetype": "text/x-python",
   "name": "python",
   "nbconvert_exporter": "python",
   "pygments_lexer": "ipython3",
   "version": "3.7.6"
  }
 },
 "nbformat": 4,
 "nbformat_minor": 5
}
