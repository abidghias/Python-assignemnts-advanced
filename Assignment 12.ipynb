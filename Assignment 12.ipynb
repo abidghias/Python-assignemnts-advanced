{
 "cells": [
  {
   "cell_type": "markdown",
   "id": "proud-cholesterol",
   "metadata": {},
   "source": [
    "1. Strings are immutable amd therefore cannot be re-assigned to the same varible."
   ]
  },
  {
   "cell_type": "code",
   "execution_count": 1,
   "id": "arctic-particle",
   "metadata": {},
   "outputs": [
    {
     "ename": "TypeError",
     "evalue": "'str' object does not support item assignment",
     "output_type": "error",
     "traceback": [
      "\u001b[1;31m---------------------------------------------------------------------------\u001b[0m",
      "\u001b[1;31mTypeError\u001b[0m                                 Traceback (most recent call last)",
      "\u001b[1;32m<ipython-input-1-ba60c196becb>\u001b[0m in \u001b[0;36m<module>\u001b[1;34m\u001b[0m\n\u001b[0;32m      1\u001b[0m \u001b[0mx\u001b[0m \u001b[1;33m=\u001b[0m \u001b[1;34m'abid'\u001b[0m\u001b[1;33m\u001b[0m\u001b[1;33m\u001b[0m\u001b[0m\n\u001b[1;32m----> 2\u001b[1;33m \u001b[0mx\u001b[0m\u001b[1;33m[\u001b[0m\u001b[1;36m0\u001b[0m\u001b[1;33m]\u001b[0m \u001b[1;33m=\u001b[0m \u001b[1;34m'b'\u001b[0m\u001b[1;33m\u001b[0m\u001b[1;33m\u001b[0m\u001b[0m\n\u001b[0m",
      "\u001b[1;31mTypeError\u001b[0m: 'str' object does not support item assignment"
     ]
    }
   ],
   "source": [
    "x = 'abid'\n",
    "x[0] = 'b'"
   ]
  },
  {
   "cell_type": "markdown",
   "id": "behind-contest",
   "metadata": {},
   "source": [
    "As u can see, its not possible"
   ]
  },
  {
   "cell_type": "code",
   "execution_count": 2,
   "id": "selective-photographer",
   "metadata": {},
   "outputs": [
    {
     "name": "stdout",
     "output_type": "stream",
     "text": [
      "abidghias\n"
     ]
    }
   ],
   "source": [
    "x1 = 'ghias'\n",
    "print(x+x1)"
   ]
  },
  {
   "cell_type": "markdown",
   "id": "periodic-charity",
   "metadata": {},
   "source": [
    "It does not voilate string immuatbility because there is no change in the original string, u r simply adding to it."
   ]
  },
  {
   "cell_type": "code",
   "execution_count": 6,
   "id": "spoken-mambo",
   "metadata": {},
   "outputs": [
    {
     "name": "stdout",
     "output_type": "stream",
     "text": [
      "a\n",
      "a\n",
      "d\n"
     ]
    }
   ],
   "source": [
    "#3\n",
    "print(x[0])\n",
    "print(x[-4])\n",
    "print(x[len(x)-1])"
   ]
  },
  {
   "cell_type": "markdown",
   "id": "daily-proxy",
   "metadata": {},
   "source": [
    "Indexing is accessing a particular element in string but slicing is cutting and taking an extract from a string, be it one element or from a starting to an ending point"
   ]
  },
  {
   "cell_type": "code",
   "execution_count": 14,
   "id": "related-vegetarian",
   "metadata": {},
   "outputs": [
    {
     "name": "stdout",
     "output_type": "stream",
     "text": [
      "<class 'str'>\n",
      "abid\n",
      "<class 'str'>\n"
     ]
    }
   ],
   "source": [
    "#indexing\n",
    "print(type(x[0]))\n",
    "#slicing\n",
    "print(x[0:])\n",
    "print(type((x[0:])))"
   ]
  },
  {
   "cell_type": "markdown",
   "id": "stuck-inflation",
   "metadata": {},
   "source": [
    "Both of them are string data-types"
   ]
  },
  {
   "cell_type": "code",
   "execution_count": 32,
   "id": "cognitive-projection",
   "metadata": {},
   "outputs": [
    {
     "data": {
      "text/plain": [
       "'\\t'"
      ]
     },
     "execution_count": 32,
     "metadata": {},
     "output_type": "execute_result"
    }
   ],
   "source": [
    "chr(9)\n",
    "\n",
    "#print(type('a'))"
   ]
  },
  {
   "cell_type": "markdown",
   "id": "periodic-diversity",
   "metadata": {},
   "source": [
    "Given a numeric value n, opposite of ord(), converts number to ascii\n",
    "But str simple converts the datatype from any to string"
   ]
  },
  {
   "cell_type": "code",
   "execution_count": 33,
   "id": "regulation-consumer",
   "metadata": {},
   "outputs": [
    {
     "name": "stdout",
     "output_type": "stream",
     "text": [
      "998789\n"
     ]
    }
   ],
   "source": [
    "print((str(998789)))"
   ]
  },
  {
   "cell_type": "code",
   "execution_count": 34,
   "id": "light-copyright",
   "metadata": {},
   "outputs": [
    {
     "data": {
      "text/plain": [
       "'abidghias'"
      ]
     },
     "execution_count": 34,
     "metadata": {},
     "output_type": "execute_result"
    }
   ],
   "source": [
    "'abid' + 'ghias'"
   ]
  },
  {
   "cell_type": "code",
   "execution_count": 42,
   "id": "permanent-character",
   "metadata": {},
   "outputs": [
    {
     "name": "stdout",
     "output_type": "stream",
     "text": [
      "abid ghias\n",
      "abid ghias\n"
     ]
    }
   ],
   "source": [
    "x = 'abid'\n",
    "x1 = 'ghias'\n",
    "print(\" \".join([x, x1]))\n",
    "print(\"{} {}\".format(x, x1))"
   ]
  },
  {
   "cell_type": "markdown",
   "id": "cooked-punch",
   "metadata": {},
   "source": [
    "8. It helps to save time by checking for existence of that string before extracting it. Longer strings may take more time and therfore increase the runtime if not checked first\n"
   ]
  },
  {
   "cell_type": "code",
   "execution_count": null,
   "id": "golden-aspect",
   "metadata": {},
   "outputs": [],
   "source": []
  }
 ],
 "metadata": {
  "kernelspec": {
   "display_name": "Python 3",
   "language": "python",
   "name": "python3"
  },
  "language_info": {
   "codemirror_mode": {
    "name": "ipython",
    "version": 3
   },
   "file_extension": ".py",
   "mimetype": "text/x-python",
   "name": "python",
   "nbconvert_exporter": "python",
   "pygments_lexer": "ipython3",
   "version": "3.7.6"
  }
 },
 "nbformat": 4,
 "nbformat_minor": 5
}
