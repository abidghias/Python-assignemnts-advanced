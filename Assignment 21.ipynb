{
 "cells": [
  {
   "cell_type": "raw",
   "id": "6abedff6",
   "metadata": {},
   "source": [
    "1. a probability distribution is the mathematical function that gives the probabilities of occurrence of different possible outcomes for an experiment.\n",
    "\n",
    "We have an experiment(tossing a coin)\n",
    "We give values to each event\n",
    "These set of values is a random variable.\n",
    "\n",
    "So if we assign 0 to tail and 1 to head, we can assume the event of tossing a coin to be an independant random event because it is unbiased."
   ]
  },
  {
   "cell_type": "raw",
   "id": "f745e133",
   "metadata": {},
   "source": [
    "2. So there is a seed that is used in pseudorandom numbers which eventually enable the randomnly generated numbers to repeat itself after a sequence so that it forms a pattern. How long the pattern is depends on the length of the seed and makes the pattern less discernible."
   ]
  },
  {
   "cell_type": "raw",
   "id": "f8442776",
   "metadata": {},
   "source": [
    "3. Mean and standard deviation\n",
    "\n",
    " For a normal distribution, 68% of the observations are within +/- one standard deviation of the mean, 95% are within +/- two standard deviations, and 99.7% are within +- three standard deviations."
   ]
  },
  {
   "cell_type": "raw",
   "id": "4b38b17d",
   "metadata": {},
   "source": [
    "4. Height of the population and rolling a fair dice"
   ]
  },
  {
   "cell_type": "raw",
   "id": "7f81348c",
   "metadata": {},
   "source": [
    "5. In the short term it'll be a random distribution but eventually with enough number of samples drawn it'll follow normal distribution. This is also called the Central limit theorum"
   ]
  },
  {
   "cell_type": "code",
   "execution_count": 4,
   "id": "9ea882ac",
   "metadata": {},
   "outputs": [
    {
     "name": "stdout",
     "output_type": "stream",
     "text": [
      "['apple', 'cherry', 'banana']\n"
     ]
    }
   ],
   "source": [
    "import random\n",
    "#shifts list object \n",
    "mylist = [\"apple\", \"banana\", \"cherry\"]\n",
    "random.shuffle(mylist)\n",
    "\n",
    "print(mylist)\n"
   ]
  },
  {
   "cell_type": "markdown",
   "id": "da09c795",
   "metadata": {},
   "source": [
    "6.\n",
    "- Arithmetic Functions \n",
    "- Power Functions\n",
    "- Logarithmic Functions\n"
   ]
  },
  {
   "cell_type": "raw",
   "id": "5dfcf92c",
   "metadata": {},
   "source": [
    "7. the logarithm is the inverse function to exponentiation. That means the logarithm of a given number x is the exponent to which another fixed number, the base b, must be raised, to produce that number x."
   ]
  },
  {
   "cell_type": "raw",
   "id": "4efdb2be",
   "metadata": {},
   "source": [
    "8.  log(a,(Base)) : This function is used to compute the natural logarithm (Base e) of a. If 2 arguments are passed, it computes the logarithm of desired base of argument a, numerically value of log(a)/log(Base)."
   ]
  },
  {
   "cell_type": "code",
   "execution_count": 5,
   "id": "68ad76ba",
   "metadata": {},
   "outputs": [
    {
     "name": "stdout",
     "output_type": "stream",
     "text": [
      "Natural logarithm of 14 is : 2.6390573296152584\n",
      "Logarithm base 5 of 14 is : 1.6397385131955606\n"
     ]
    }
   ],
   "source": [
    "import math\n",
    "  \n",
    "# Printing the log base e of 14\n",
    "print (\"Natural logarithm of 14 is : \", end=\"\")\n",
    "print (math.log(14))\n",
    "  \n",
    "# Printing the log base 5 of 14\n",
    "print (\"Logarithm base 5 of 14 is : \", end=\"\")\n",
    "print (math.log(14,5))"
   ]
  },
  {
   "cell_type": "raw",
   "id": "791fc165",
   "metadata": {},
   "source": [
    "- log2(a) : This function is used to compute the logarithm base 2 of a. Displays more accurate result than log(a,2)."
   ]
  },
  {
   "cell_type": "code",
   "execution_count": 6,
   "id": "8edf5224",
   "metadata": {},
   "outputs": [
    {
     "name": "stdout",
     "output_type": "stream",
     "text": [
      "Logarithm base 2 of 14 is : 3.807354922057604\n"
     ]
    }
   ],
   "source": [
    "print (\"Logarithm base 2 of 14 is : \", end=\"\")\n",
    "print (math.log2(14))"
   ]
  },
  {
   "cell_type": "raw",
   "id": "ca017806",
   "metadata": {},
   "source": [
    "-  log10(a) : This function is used to compute the logarithm base 10 of a. Displays more accurate result than log(a,10)."
   ]
  },
  {
   "cell_type": "code",
   "execution_count": 7,
   "id": "946f00e3",
   "metadata": {},
   "outputs": [
    {
     "name": "stdout",
     "output_type": "stream",
     "text": [
      "Logarithm base 10 of 14 is : 1.146128035678238\n"
     ]
    }
   ],
   "source": [
    "print (\"Logarithm base 10 of 14 is : \", end=\"\")\n",
    "print (math.log10(14))"
   ]
  },
  {
   "cell_type": "code",
   "execution_count": null,
   "id": "84021c1d",
   "metadata": {},
   "outputs": [],
   "source": []
  }
 ],
 "metadata": {
  "kernelspec": {
   "display_name": "Python 3",
   "language": "python",
   "name": "python3"
  },
  "language_info": {
   "codemirror_mode": {
    "name": "ipython",
    "version": 3
   },
   "file_extension": ".py",
   "mimetype": "text/x-python",
   "name": "python",
   "nbconvert_exporter": "python",
   "pygments_lexer": "ipython3",
   "version": "3.8.8"
  }
 },
 "nbformat": 4,
 "nbformat_minor": 5
}
