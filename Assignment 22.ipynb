{
 "cells": [
  {
   "cell_type": "code",
   "execution_count": 7,
   "id": "24877ff5",
   "metadata": {},
   "outputs": [],
   "source": [
    "import array"
   ]
  },
  {
   "cell_type": "code",
   "execution_count": 8,
   "id": "0775eca5",
   "metadata": {},
   "outputs": [
    {
     "data": {
      "text/plain": [
       "'bBuhHiIlLqQfd'"
      ]
     },
     "execution_count": 8,
     "metadata": {},
     "output_type": "execute_result"
    }
   ],
   "source": [
    "#Each character is corresponding to a specific data type that the array will contain.\n",
    "array.typecodes"
   ]
  },
  {
   "cell_type": "code",
   "execution_count": 9,
   "id": "234dc8dd",
   "metadata": {},
   "outputs": [],
   "source": [
    "from array import array\n",
    "arr = array('u', 'abcdefg')"
   ]
  },
  {
   "cell_type": "code",
   "execution_count": 12,
   "id": "f71f02bb",
   "metadata": {},
   "outputs": [
    {
     "data": {
      "text/plain": [
       "'u'"
      ]
     },
     "execution_count": 12,
     "metadata": {},
     "output_type": "execute_result"
    }
   ],
   "source": [
    "#Get the Type Code\n",
    "arr.typecode"
   ]
  },
  {
   "cell_type": "code",
   "execution_count": 13,
   "id": "0fafde7c",
   "metadata": {},
   "outputs": [
    {
     "data": {
      "text/plain": [
       "2"
      ]
     },
     "execution_count": 13,
     "metadata": {},
     "output_type": "execute_result"
    }
   ],
   "source": [
    "#Get Size of Array Item\n",
    "arr.itemsize"
   ]
  },
  {
   "cell_type": "markdown",
   "id": "049e0b08",
   "metadata": {},
   "source": [
    "- Python Array uses less memory size than Python List. \n",
    "- It loses some flexibility but has less overhead. \n",
    "- arrays are a more direct way of accessing data in memory so they are much faster and more efficient."
   ]
  },
  {
   "cell_type": "markdown",
   "id": "1a37c00c",
   "metadata": {},
   "source": [
    "2. limitations of array package\n",
    "\n",
    "- only one type of data\n",
    "- restricted features\n",
    "- Insertion and deletion is quite difficult in an array."
   ]
  },
  {
   "cell_type": "raw",
   "id": "5ccde6d6",
   "metadata": {},
   "source": [
    "3. NumPy arrays have a fixed size at creation, unlike Python lists (which can grow dynamically). Changing the size of an ndarray will create a new array and delete the original.\n",
    "\n",
    "The elements in a NumPy array are all required to be of the same data type, and thus will be the same size in memory. The exception: one can have arrays of (Python, including NumPy) objects, thereby allowing for arrays of different sized elements.\n",
    "\n",
    "NumPy arrays facilitate advanced mathematical and other types of operations on large numbers of data. Typically, such operations are executed more efficiently and with less code than is possible using Python’s built-in sequences."
   ]
  },
  {
   "cell_type": "code",
   "execution_count": 14,
   "id": "a0503a49",
   "metadata": {},
   "outputs": [],
   "source": [
    "import numpy as np"
   ]
  },
  {
   "cell_type": "code",
   "execution_count": 29,
   "id": "4da88b81",
   "metadata": {},
   "outputs": [
    {
     "data": {
      "text/plain": [
       "array([0., 0., 0., 0., 0.])"
      ]
     },
     "execution_count": 29,
     "metadata": {},
     "output_type": "execute_result"
    }
   ],
   "source": [
    "##initializes zeros\n",
    "np.zeros(5)"
   ]
  },
  {
   "cell_type": "code",
   "execution_count": 30,
   "id": "c8b64898",
   "metadata": {},
   "outputs": [
    {
     "data": {
      "text/plain": [
       "array([1., 1., 1., 1., 1.])"
      ]
     },
     "execution_count": 30,
     "metadata": {},
     "output_type": "execute_result"
    }
   ],
   "source": [
    "#initializes ones\n",
    "np.ones(5)"
   ]
  },
  {
   "cell_type": "code",
   "execution_count": 31,
   "id": "19c0fcdc",
   "metadata": {},
   "outputs": [
    {
     "data": {
      "text/plain": [
       "array([1., 1., 1., 1., 1.])"
      ]
     },
     "execution_count": 31,
     "metadata": {},
     "output_type": "execute_result"
    }
   ],
   "source": [
    "#Random number, depending on memory condition\n",
    "np.empty(5)"
   ]
  },
  {
   "cell_type": "code",
   "execution_count": 35,
   "id": "3999e7ee",
   "metadata": {},
   "outputs": [
    {
     "data": {
      "text/plain": [
       "array([[0, 1, 2],\n",
       "       [1, 2, 3],\n",
       "       [2, 3, 4]])"
      ]
     },
     "execution_count": 35,
     "metadata": {},
     "output_type": "execute_result"
    }
   ],
   "source": [
    "#5\n",
    "arr = np.fromfunction(lambda i, j: i + j, (3, 3), dtype=int)\n",
    "arr\n",
    "# it calls a function (either lambda or a normal function) to create an ndarray."
   ]
  },
  {
   "cell_type": "code",
   "execution_count": 65,
   "id": "1a4e3ca9",
   "metadata": {},
   "outputs": [],
   "source": [
    "#6\n",
    "arr1 = np.array([[1,2,3],[4,5,6]])"
   ]
  },
  {
   "cell_type": "code",
   "execution_count": 63,
   "id": "a2268f59",
   "metadata": {},
   "outputs": [
    {
     "data": {
      "text/plain": [
       "array([[2, 3, 4],\n",
       "       [5, 6, 7]])"
      ]
     },
     "execution_count": 63,
     "metadata": {},
     "output_type": "execute_result"
    }
   ],
   "source": [
    "# broadcasting happens whereby each element of the array is added by one in this case\n",
    "arr1 + 1\n"
   ]
  },
  {
   "cell_type": "code",
   "execution_count": 79,
   "id": "c957a10b",
   "metadata": {},
   "outputs": [
    {
     "name": "stdout",
     "output_type": "stream",
     "text": [
      "[[10 11 12]\n",
      " [13 14 15]]\n",
      "[[11 12 13]\n",
      " [14 15 16]]\n",
      "[[12 13 14]\n",
      " [15 16 17]]\n"
     ]
    }
   ],
   "source": [
    "#7. as u can see each element in the array gets incremented by 1\n",
    "for i in range(3):\n",
    "    arr1 += 1\n",
    "    print(arr1)"
   ]
  },
  {
   "cell_type": "code",
   "execution_count": 85,
   "id": "b81a4663",
   "metadata": {},
   "outputs": [
    {
     "name": "stdout",
     "output_type": "stream",
     "text": [
      "['USA' 'Japan' 'UK' '' 'India' 'China']\n"
     ]
    }
   ],
   "source": [
    "# importing numpy as np\n",
    "import numpy as np\n",
    "  \n",
    "# Create the numpy array\n",
    "country = np.array(['USA', 'Japan', 'UK', '', 'India', 'China'])\n",
    "  \n",
    "# Print the array\n",
    "print(country)"
   ]
  },
  {
   "cell_type": "code",
   "execution_count": 87,
   "id": "33feb83a",
   "metadata": {},
   "outputs": [
    {
     "name": "stdout",
     "output_type": "stream",
     "text": [
      "['USA' 'Japan' 'UK' 'New Z' 'India' 'China']\n"
     ]
    }
   ],
   "source": [
    "\n",
    "# Assign 'New Zealand' at the place of missing value\n",
    "country[country == ''] = 'New Zealand'\n",
    "  \n",
    "#it will only assign until the max length initialized and cut off the rest\n",
    "print(country)"
   ]
  },
  {
   "cell_type": "code",
   "execution_count": 88,
   "id": "f0dd3abc",
   "metadata": {},
   "outputs": [
    {
     "data": {
      "text/plain": [
       "array([5, 7, 9])"
      ]
     },
     "execution_count": 88,
     "metadata": {},
     "output_type": "execute_result"
    }
   ],
   "source": [
    "arr1 = np.array([1,2,3])\n",
    "arr2 = np.array([4,5,6])\n",
    "arr1 + arr2"
   ]
  },
  {
   "cell_type": "code",
   "execution_count": 89,
   "id": "cf92491f",
   "metadata": {},
   "outputs": [
    {
     "data": {
      "text/plain": [
       "array([6, 7, 8])"
      ]
     },
     "execution_count": 89,
     "metadata": {},
     "output_type": "execute_result"
    }
   ],
   "source": [
    "arr1 + 5"
   ]
  },
  {
   "cell_type": "code",
   "execution_count": 93,
   "id": "5a110723",
   "metadata": {},
   "outputs": [
    {
     "ename": "ValueError",
     "evalue": "operands could not be broadcast together with shapes (3,) (2,) ",
     "output_type": "error",
     "traceback": [
      "\u001b[1;31m---------------------------------------------------------------------------\u001b[0m",
      "\u001b[1;31mValueError\u001b[0m                                Traceback (most recent call last)",
      "\u001b[1;32m<ipython-input-93-8720aef9bba8>\u001b[0m in \u001b[0;36m<module>\u001b[1;34m\u001b[0m\n\u001b[1;32m----> 1\u001b[1;33m \u001b[0marr1\u001b[0m \u001b[1;33m+\u001b[0m \u001b[0mnp\u001b[0m\u001b[1;33m.\u001b[0m\u001b[0marray\u001b[0m\u001b[1;33m(\u001b[0m\u001b[1;33m[\u001b[0m\u001b[1;36m1\u001b[0m\u001b[1;33m,\u001b[0m\u001b[1;36m2\u001b[0m\u001b[1;33m]\u001b[0m\u001b[1;33m)\u001b[0m\u001b[1;33m\u001b[0m\u001b[1;33m\u001b[0m\u001b[0m\n\u001b[0m\u001b[0;32m      2\u001b[0m \u001b[1;31m# this will throw an error because dimensions are not matching\u001b[0m\u001b[1;33m\u001b[0m\u001b[1;33m\u001b[0m\u001b[1;33m\u001b[0m\u001b[0m\n",
      "\u001b[1;31mValueError\u001b[0m: operands could not be broadcast together with shapes (3,) (2,) "
     ]
    }
   ],
   "source": [
    "arr1 + np.array([1,2])\n",
    "# this will throw an error because dimensions are not matching"
   ]
  },
  {
   "cell_type": "code",
   "execution_count": 94,
   "id": "1cd24d68",
   "metadata": {},
   "outputs": [
    {
     "data": {
      "text/plain": [
       "array([ 4, 10, 18])"
      ]
     },
     "execution_count": 94,
     "metadata": {},
     "output_type": "execute_result"
    }
   ],
   "source": [
    "arr1 * arr2"
   ]
  },
  {
   "cell_type": "markdown",
   "id": "5e6de797",
   "metadata": {},
   "source": [
    "Each array will have n*m dimension, So consider 2 arrays n1 * m1 and n2 * m2 dimensions, for matrix multiplication to occur it is important that m1 and n2 dimensions are the same otherwise the operation will fail"
   ]
  },
  {
   "cell_type": "code",
   "execution_count": 95,
   "id": "8617ca66",
   "metadata": {},
   "outputs": [
    {
     "data": {
      "text/plain": [
       "array([1, 2, 3])"
      ]
     },
     "execution_count": 95,
     "metadata": {},
     "output_type": "execute_result"
    }
   ],
   "source": [
    "arr1"
   ]
  },
  {
   "cell_type": "code",
   "execution_count": 100,
   "id": "d5f3b021",
   "metadata": {},
   "outputs": [
    {
     "name": "stdout",
     "output_type": "stream",
     "text": [
      "[[ True  True  True]\n",
      " [ True  True False]\n",
      " [ True False False]]\n"
     ]
    },
    {
     "data": {
      "text/plain": [
       "array([1, 2])"
      ]
     },
     "execution_count": 100,
     "metadata": {},
     "output_type": "execute_result"
    }
   ],
   "source": [
    "#10\n",
    "print(arr<=2)\n",
    "arr1[arr1<=2]"
   ]
  },
  {
   "cell_type": "code",
   "execution_count": 101,
   "id": "50bd8a0b",
   "metadata": {},
   "outputs": [
    {
     "name": "stdout",
     "output_type": "stream",
     "text": [
      "40.87728441264636\n"
     ]
    }
   ],
   "source": [
    "from statistics import stdev\n",
    "from numpy import std\n",
    "\n",
    "speed = [32,111,138,28,59,77,97]\n",
    "print(stdev(speed))"
   ]
  },
  {
   "cell_type": "code",
   "execution_count": 102,
   "id": "df56f28e",
   "metadata": {},
   "outputs": [
    {
     "name": "stdout",
     "output_type": "stream",
     "text": [
      "37.84501153334721\n"
     ]
    }
   ],
   "source": [
    "print(std(speed))"
   ]
  },
  {
   "cell_type": "code",
   "execution_count": 113,
   "id": "9feddc4d",
   "metadata": {},
   "outputs": [
    {
     "name": "stdout",
     "output_type": "stream",
     "text": [
      "77.42857142857143\n",
      "1432.2448979591834\n",
      "37.84501153334721\n"
     ]
    }
   ],
   "source": [
    "def mean(data):\n",
    "    n = len(data)\n",
    "    mean = sum(data) / n\n",
    "    return mean\n",
    "\n",
    "def variance(data):\n",
    "    n = len(data)\n",
    "   \n",
    "    mean = sum(data) / n\n",
    "   \n",
    "    deviations = [(x - mean) ** 2 for x in data]\n",
    "    \n",
    "    variance = sum(deviations) / n\n",
    "    return variance\n",
    "\n",
    "def stdev(data):\n",
    "    import math\n",
    "    var = variance(data)\n",
    "    std_dev = math.sqrt(var)\n",
    "    return std_dev\n",
    "\n",
    "print(mean(speed))\n",
    "print(variance(speed))\n",
    "print(stdev(speed))"
   ]
  },
  {
   "cell_type": "markdown",
   "id": "790f3741",
   "metadata": {},
   "source": [
    "Our custom function will be the slowest followed by the inbuilt stdev from statistics module followed by the one in numpy package"
   ]
  },
  {
   "cell_type": "code",
   "execution_count": 114,
   "id": "79b21bf0",
   "metadata": {},
   "outputs": [],
   "source": [
    "arr = np.asarray([ [[[1, 11], [2, 22], [3, 33]], [[4, 44], [5, 55], [6, 66]]], [ [[7, 77], [8, 88], [9, 99]], [[0, 32], [1, 33], [2, 34] ]] ])"
   ]
  },
  {
   "cell_type": "code",
   "execution_count": 116,
   "id": "8e87ceab",
   "metadata": {},
   "outputs": [
    {
     "data": {
      "text/plain": [
       "array([[[[ 0, 11],\n",
       "         [ 0, 22],\n",
       "         [ 0, 33]],\n",
       "\n",
       "        [[ 4, 44],\n",
       "         [ 5, 55],\n",
       "         [ 6, 66]]],\n",
       "\n",
       "\n",
       "       [[[ 7, 77],\n",
       "         [ 8, 88],\n",
       "         [ 9, 99]],\n",
       "\n",
       "        [[ 0, 32],\n",
       "         [ 0, 33],\n",
       "         [ 0, 34]]]])"
      ]
     },
     "execution_count": 116,
     "metadata": {},
     "output_type": "execute_result"
    }
   ],
   "source": [
    "# u can ensure u dont loose dimentionality here if we fill the na values with 0 (values that dont satisfy the condition)\n",
    "np.where(arr>3, arr, 0)"
   ]
  },
  {
   "cell_type": "code",
   "execution_count": null,
   "id": "83c34013",
   "metadata": {},
   "outputs": [],
   "source": []
  }
 ],
 "metadata": {
  "kernelspec": {
   "display_name": "Python 3",
   "language": "python",
   "name": "python3"
  },
  "language_info": {
   "codemirror_mode": {
    "name": "ipython",
    "version": 3
   },
   "file_extension": ".py",
   "mimetype": "text/x-python",
   "name": "python",
   "nbconvert_exporter": "python",
   "pygments_lexer": "ipython3",
   "version": "3.8.8"
  }
 },
 "nbformat": 4,
 "nbformat_minor": 5
}
