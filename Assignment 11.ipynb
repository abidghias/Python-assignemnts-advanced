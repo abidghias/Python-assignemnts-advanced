{
 "cells": [
  {
   "cell_type": "markdown",
   "id": "recreational-beatles",
   "metadata": {},
   "source": [
    "Metaclasses are the 'stuff' that creates classes.\n",
    "\n",
    "A metaclass instantiates and defines behavior for a class just like a class instantiates and defines behavior for an instance.\n",
    "\n",
    "You define classes in order to create objects.\n",
    "\n",
    "metaclasses are what create these objects. They are the classes' classes, you can picture them this way:\n",
    "\n",
    "MyClass = MetaClass()\n",
    "my_object = MyClass()\n",
    "\n",
    "MyClass = type('MyClass', (), {})\n",
    "\n",
    "It's because the function type is in fact a metaclass. type is the metaclass Python uses to create all classes behind the scenes.\n"
   ]
  },
  {
   "cell_type": "markdown",
   "id": "upset-pharmacology",
   "metadata": {},
   "source": [
    "2. \n",
    "MyClass = type('MyClass', (), {})\n",
    "\n",
    "It's because the function type is in fact a metaclass. type is the metaclass Python uses to create all classes behind the scenes.\n"
   ]
  },
  {
   "cell_type": "code",
   "execution_count": 16,
   "id": "thirty-terrorist",
   "metadata": {},
   "outputs": [],
   "source": [
    "from functools import wraps\n",
    " \n",
    "def decorator_function(original_function):\n",
    "    @wraps\n",
    "    def wrapper_function(*args,**kwargs):\n",
    "        print('sup')\n",
    "        print(original_function.__name__)\n",
    "        return original_function(*args,**kwargs)\n",
    "    return wrapper_function\n",
    "\n",
    "@decorator_function\n",
    "def display():\n",
    "    print('hi')\n",
    "    \n"
   ]
  },
  {
   "cell_type": "code",
   "execution_count": 18,
   "id": "timely-warning",
   "metadata": {},
   "outputs": [],
   "source": [
    "@decorator_function\n",
    "def display_info(name,age,place='bangalore'):\n",
    "    print('display ran with arguments ({}, {},{}))'.format(name,age,place))\n",
    "    \n",
    "\n"
   ]
  },
  {
   "cell_type": "markdown",
   "id": "natural-delicious",
   "metadata": {},
   "source": [
    "Decorators essentially automate the prior example's manual name rebinding here. Just like with metaclasses, because the decorator returns the original class, instances are made from it, not from a wrapper object. In fact, instance creation is not intercepted at all"
   ]
  },
  {
   "cell_type": "code",
   "execution_count": 34,
   "id": "understanding-better",
   "metadata": {},
   "outputs": [],
   "source": [
    "conn = connection.connect(host='localhost',user='root',passwd='gt4s2fewq',use_pure=True)\n",
    "cur = conn.cursor()\n"
   ]
  },
  {
   "cell_type": "code",
   "execution_count": 38,
   "id": "perfect-process",
   "metadata": {},
   "outputs": [],
   "source": [
    "cur.execute('select * from asha.test')"
   ]
  },
  {
   "cell_type": "code",
   "execution_count": 39,
   "id": "temporal-scanner",
   "metadata": {},
   "outputs": [
    {
     "data": {
      "text/plain": [
       "[(476, 'mama', datetime.date(2021, 5, 15)),\n",
       " (476, 'mama', datetime.date(2021, 5, 15)),\n",
       " (458, 'abid', datetime.date(2021, 5, 15)),\n",
       " (459, 'abid', datetime.date(2021, 5, 15)),\n",
       " (460, 'abid1', datetime.date(2021, 5, 16))]"
      ]
     },
     "execution_count": 39,
     "metadata": {},
     "output_type": "execute_result"
    }
   ],
   "source": [
    "cur.fetchall()"
   ]
  },
  {
   "cell_type": "code",
   "execution_count": 37,
   "id": "practical-platform",
   "metadata": {},
   "outputs": [],
   "source": [
    "cur.execute(\"insert into asha.test values (460,'abid1','2021-05-16')\")"
   ]
  },
  {
   "cell_type": "code",
   "execution_count": null,
   "id": "proper-morning",
   "metadata": {},
   "outputs": [],
   "source": []
  }
 ],
 "metadata": {
  "kernelspec": {
   "display_name": "Python 3",
   "language": "python",
   "name": "python3"
  },
  "language_info": {
   "codemirror_mode": {
    "name": "ipython",
    "version": 3
   },
   "file_extension": ".py",
   "mimetype": "text/x-python",
   "name": "python",
   "nbconvert_exporter": "python",
   "pygments_lexer": "ipython3",
   "version": "3.7.6"
  }
 },
 "nbformat": 4,
 "nbformat_minor": 5
}
