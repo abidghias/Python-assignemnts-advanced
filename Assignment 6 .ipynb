{
 "cells": [
  {
   "cell_type": "markdown",
   "id": "peaceful-airplane",
   "metadata": {},
   "source": [
    "1.\n",
    "* If you have some suspicious code that may raise an exception, you can defend your program by placing the suspicious code in a try: block. After the try: block, include an except: statement, followed by a block of code which handles the problem as elegantly as possible.\n",
    "    \n",
    "* When these exceptions occur, the Python interpreter stops the current process and passes it to the calling process until it is handled. If not handled, the program will crash.\n",
    "   So to prevent these crashes we predict the error in the past and ensure that the whole program execution doesnt stop \n",
    "   \n",
    "* You can create your exceptions and have custom messages printed to solve a specific problem you'd want to by informing the user, this can only be possible in this way"
   ]
  },
  {
   "cell_type": "code",
   "execution_count": 2,
   "id": "regular-patrol",
   "metadata": {},
   "outputs": [
    {
     "name": "stdout",
     "output_type": "stream",
     "text": [
      "Enter a number: 8\n",
      "0.125\n"
     ]
    }
   ],
   "source": [
    "try:\n",
    "    num = int(input(\"Enter a number: \"))\n",
    "    assert num % 2 == 0\n",
    "except:\n",
    "    print(\"Not an even number!\")\n",
    "else:\n",
    "    reciprocal = 1/num\n",
    "    print(reciprocal)\n"
   ]
  },
  {
   "cell_type": "markdown",
   "id": "altered-heating",
   "metadata": {},
   "source": [
    "2. The program will crash when an illegal input is made into the program"
   ]
  },
  {
   "cell_type": "markdown",
   "id": "confidential-fighter",
   "metadata": {},
   "source": [
    "3. \n",
    "* Raising Exceptions in Python\n",
    "* Python try with else clause\n"
   ]
  },
  {
   "cell_type": "code",
   "execution_count": 6,
   "id": "outstanding-james",
   "metadata": {},
   "outputs": [
    {
     "name": "stdout",
     "output_type": "stream",
     "text": [
      "Enter a positive integer: -1\n",
      "That is not a positive number!\n"
     ]
    }
   ],
   "source": [
    "try:\n",
    "    a = int(input(\"Enter a positive integer: \"))\n",
    "    if a <= 0:\n",
    "        raise ValueError(\"That is not a positive number!\")\n",
    "except ValueError as ve:\n",
    "    print(ve)\n",
    "#so by raising custom exception u can give a custom message and actually change how the program executes"
   ]
  },
  {
   "cell_type": "markdown",
   "id": "egyptian-christmas",
   "metadata": {},
   "source": [
    "4. \n",
    "* By using raise method\n",
    "* By failing an assert statement"
   ]
  },
  {
   "cell_type": "raw",
   "id": "neural-booking",
   "metadata": {},
   "source": [
    "5. Using try and except block"
   ]
  },
  {
   "cell_type": "code",
   "execution_count": null,
   "id": "varying-warehouse",
   "metadata": {},
   "outputs": [],
   "source": []
  }
 ],
 "metadata": {
  "kernelspec": {
   "display_name": "Python 3",
   "language": "python",
   "name": "python3"
  },
  "language_info": {
   "codemirror_mode": {
    "name": "ipython",
    "version": 3
   },
   "file_extension": ".py",
   "mimetype": "text/x-python",
   "name": "python",
   "nbconvert_exporter": "python",
   "pygments_lexer": "ipython3",
   "version": "3.7.6"
  }
 },
 "nbformat": 4,
 "nbformat_minor": 5
}
