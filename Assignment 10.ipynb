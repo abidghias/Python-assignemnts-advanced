{
 "cells": [
  {
   "cell_type": "markdown",
   "id": "separated-envelope",
   "metadata": {},
   "source": [
    "1. A key difference between __getattr__ and __getattribute__ is that __getattr__ is only invoked if the attribute wasn't found the usual ways. It's good for implementing a fallback for missing attributes, and is probably the one of two you want.\n",
    "\n",
    "__getattribute__ is invoked before looking at the actual attributes on the object, and so can be tricky to implement correctly. You can end up in infinite recursions very easily.\n",
    "\n",
    "New-style classes derive from object, old-style classes are those in Python 2.x with no explicit base class. But the distinction between old-style and new-style classes is not the important one when choosing between __getattr__ and __getattribute__.\n",
    "\n",
    "You almost certainly want __getattr__."
   ]
  },
  {
   "cell_type": "code",
   "execution_count": 1,
   "id": "labeled-heading",
   "metadata": {},
   "outputs": [
    {
     "name": "stdout",
     "output_type": "stream",
     "text": [
      "1\n",
      "10\n",
      "0\n"
     ]
    }
   ],
   "source": [
    "class Count:\n",
    "    def __init__(self,mymin,mymax):\n",
    "        self.mymin=mymin\n",
    "        self.mymax=mymax    \n",
    "\n",
    "    def __getattr__(self, item):\n",
    "        self.__dict__[item]=0\n",
    "        return 0\n",
    "\n",
    "obj1 = Count(1,10)\n",
    "print(obj1.mymin)\n",
    "print(obj1.mymax)\n",
    "print(obj1.mycurrent1)\n"
   ]
  },
  {
   "cell_type": "markdown",
   "id": "useful-execution",
   "metadata": {},
   "source": [
    "Since mycurrent1 here is an uncdeclared instace, it automatically goes to the __getattr__ function and declares one automatically to avoid error."
   ]
  },
  {
   "cell_type": "code",
   "execution_count": 8,
   "id": "increasing-broadcast",
   "metadata": {},
   "outputs": [
    {
     "name": "stdout",
     "output_type": "stream",
     "text": [
      "accessing the attribute to get the value\n",
      "<class 'int'>\n"
     ]
    }
   ],
   "source": [
    "#implementing descriptors\n",
    "class Verbose_attribute():\n",
    "    def __get__(self, obj, type=None) -> object:\n",
    "        print(\"accessing the attribute to get the value\")\n",
    "        return 42\n",
    "    def __set__(self, obj, value) -> None:\n",
    "        print(\"accessing the attribute to set the value\")\n",
    "        raise AttributeError(\"Cannot change the value\")\n",
    "\n",
    "class Foo():\n",
    "    attribute1 = Verbose_attribute()\n",
    "\n",
    "my_foo_object = Foo()\n",
    "x = my_foo_object.attribute1\n",
    "print(type(x))"
   ]
  },
  {
   "cell_type": "markdown",
   "id": "fossil-degree",
   "metadata": {},
   "source": [
    "descriptors are a low-level mechanism that lets you hook into an object's attributes being accessed. Properties are a high-level application of this; that is, properties are implemented using descriptors."
   ]
  },
  {
   "cell_type": "code",
   "execution_count": 5,
   "id": "several-wright",
   "metadata": {},
   "outputs": [
    {
     "data": {
      "text/plain": [
       "{'m': 'in KG', 'v': 'in M/S', 'return': 'Joules'}"
      ]
     },
     "execution_count": 5,
     "metadata": {},
     "output_type": "execute_result"
    }
   ],
   "source": []
  },
  {
   "cell_type": "code",
   "execution_count": 13,
   "id": "fossil-stack",
   "metadata": {},
   "outputs": [
    {
     "name": "stdout",
     "output_type": "stream",
     "text": [
      "Getting value\n",
      "Peter\n",
      "Setting value to Diesel\n",
      "Deleting value\n"
     ]
    }
   ],
   "source": [
    "# propertiy in python\n",
    "class Alphabet: \n",
    "    def __init__(self, value): \n",
    "        self._value = value \n",
    "            \n",
    "    # getting the values     \n",
    "    @property\n",
    "    def value(self): \n",
    "        print('Getting value') \n",
    "        return self._value \n",
    "            \n",
    "    # setting the values     \n",
    "    @value.setter \n",
    "    def value(self, value): \n",
    "        print('Setting value to ' + value) \n",
    "        self._value = value \n",
    "            \n",
    "    # deleting the values \n",
    "    @value.deleter \n",
    "    def value(self): \n",
    "        print('Deleting value') \n",
    "        del self._value \n",
    "    \n",
    "    \n",
    "# passing the value \n",
    "x = Alphabet('Peter') \n",
    "print(x.value) \n",
    "    \n",
    "x.value = 'Diesel'\n",
    "    \n",
    "del x.value "
   ]
  },
  {
   "cell_type": "markdown",
   "id": "placed-disposition",
   "metadata": {},
   "source": [
    "__getattribute__ is always called. Essentially this method is used to find an attribute of a class. If it fails, it will raise an AttributeError\n",
    "\n",
    "In case it fails, and class implements __getattr__, then __getattr__ is called right after. Therefore, the biggest difference is that __getattr__ is called for attributes that don’t actually exist on a class."
   ]
  },
  {
   "cell_type": "markdown",
   "id": "behind-discretion",
   "metadata": {},
   "source": [
    "If you need a simple way to return a computed value from an attribute read, or to call a function on an attribute write, use the @property decorator.\n",
    "\n",
    "It may be worth noting that python discourages the use of getters and setters except where necessary \n",
    "\n",
    "descriptors are a low-level mechanism that lets you hook into an object's attributes being accessed. Properties are a high-level application of this; that is, properties are implemented using descriptors."
   ]
  },
  {
   "cell_type": "code",
   "execution_count": null,
   "id": "logical-ecology",
   "metadata": {},
   "outputs": [],
   "source": []
  },
  {
   "cell_type": "code",
   "execution_count": null,
   "id": "geological-wilderness",
   "metadata": {},
   "outputs": [],
   "source": []
  },
  {
   "cell_type": "code",
   "execution_count": null,
   "id": "cubic-latvia",
   "metadata": {},
   "outputs": [],
   "source": []
  },
  {
   "cell_type": "code",
   "execution_count": null,
   "id": "moving-divide",
   "metadata": {},
   "outputs": [],
   "source": []
  }
 ],
 "metadata": {
  "kernelspec": {
   "display_name": "Python 3",
   "language": "python",
   "name": "python3"
  },
  "language_info": {
   "codemirror_mode": {
    "name": "ipython",
    "version": 3
   },
   "file_extension": ".py",
   "mimetype": "text/x-python",
   "name": "python",
   "nbconvert_exporter": "python",
   "pygments_lexer": "ipython3",
   "version": "3.7.6"
  }
 },
 "nbformat": 4,
 "nbformat_minor": 5
}
