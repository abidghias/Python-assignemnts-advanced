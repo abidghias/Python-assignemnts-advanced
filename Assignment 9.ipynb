{
 "cells": [
  {
   "cell_type": "markdown",
   "id": "valuable-missouri",
   "metadata": {},
   "source": [
    "1. __str__() "
   ]
  },
  {
   "cell_type": "code",
   "execution_count": 5,
   "id": "industrial-coaching",
   "metadata": {},
   "outputs": [
    {
     "data": {
      "text/plain": [
       "\"b'Zoot!'\""
      ]
     },
     "execution_count": 5,
     "metadata": {},
     "output_type": "execute_result"
    }
   ],
   "source": [
    "str(b'Zoot!')"
   ]
  },
  {
   "cell_type": "code",
   "execution_count": 6,
   "id": "current-hollywood",
   "metadata": {},
   "outputs": [
    {
     "data": {
      "text/plain": [
       "'01      012     0123    01234'"
      ]
     },
     "execution_count": 6,
     "metadata": {},
     "output_type": "execute_result"
    }
   ],
   "source": [
    "'01\\t012\\t0123\\t01234'.expandtabs()"
   ]
  },
  {
   "cell_type": "code",
   "execution_count": 7,
   "id": "radical-black",
   "metadata": {},
   "outputs": [
    {
     "data": {
      "text/plain": [
       "'The sum of 1 + 2 is 3'"
      ]
     },
     "execution_count": 7,
     "metadata": {},
     "output_type": "execute_result"
    }
   ],
   "source": [
    "\"The sum of 1 + 2 is {0}\".format(1+2)"
   ]
  },
  {
   "cell_type": "code",
   "execution_count": 8,
   "id": "typical-november",
   "metadata": {},
   "outputs": [
    {
     "name": "stdout",
     "output_type": "stream",
     "text": [
      "This string contains a single quote (') character.\n"
     ]
    }
   ],
   "source": [
    "#2\n",
    "print('This string contains a single quote (\\') character.')\n",
    "#here u can suppress the single quotes by using escape character"
   ]
  },
  {
   "cell_type": "code",
   "execution_count": 10,
   "id": "planned-pharmaceutical",
   "metadata": {},
   "outputs": [
    {
     "name": "stdout",
     "output_type": "stream",
     "text": [
      "6\n"
     ]
    }
   ],
   "source": [
    "print(eval('2 + 4'))"
   ]
  },
  {
   "cell_type": "code",
   "execution_count": 11,
   "id": "identified-republic",
   "metadata": {},
   "outputs": [
    {
     "name": "stdout",
     "output_type": "stream",
     "text": [
      "2 + 4\n"
     ]
    }
   ],
   "source": [
    "#vs \n",
    "print('2 + 4')"
   ]
  },
  {
   "cell_type": "markdown",
   "id": "level-train",
   "metadata": {},
   "source": [
    "This a typical example of where two same strings give a different output"
   ]
  },
  {
   "cell_type": "code",
   "execution_count": 14,
   "id": "meaningful-thread",
   "metadata": {},
   "outputs": [
    {
     "data": {
      "text/plain": [
       "'6918417712'"
      ]
     },
     "execution_count": 14,
     "metadata": {},
     "output_type": "execute_result"
    }
   ],
   "source": [
    "s = \"6Â 918Â 417Â 712\"\n",
    "s.replace(u\"Â \", u\"\")\n"
   ]
  },
  {
   "cell_type": "markdown",
   "id": "popular-discovery",
   "metadata": {},
   "source": [
    "Simply replacing the Non-ascii characters present by using the string.replace(old,new) will do"
   ]
  },
  {
   "cell_type": "markdown",
   "id": "vulnerable-occasions",
   "metadata": {},
   "source": [
    "4. \n",
    "\n",
    "- Binary file are those typical files that store data in the form of sequence of bytes grouped into eight bits or sometimes sixteen bits.\n",
    "\n",
    "- Since binary files store data in sequential bytes, a small change in the file can corrupt the file and make it unreadable to the supporting application.\n",
    "\n",
    "- Text files are special subset of binary files that are used to store human readable characters as a rich text document or plain text document.\n",
    "\n",
    "- Text files are less prone to get corrupted as any undesired change may just show up once the file is opened and then can easily be removed."
   ]
  },
  {
   "cell_type": "code",
   "execution_count": 16,
   "id": "promotional-certification",
   "metadata": {},
   "outputs": [
    {
     "name": "stdout",
     "output_type": "stream",
     "text": [
      "�abc\n",
      "abc\n",
      "\\x80abc\n"
     ]
    }
   ],
   "source": [
    "print(b'\\x80abc'.decode(\"utf-8\", \"replace\"))\n",
    "print(b'\\x80abc'.decode(\"utf-8\", \"ignore\"))\n",
    "print(b'\\x80abc'.decode(\"utf-8\", \"backslashreplace\"))"
   ]
  },
  {
   "cell_type": "markdown",
   "id": "processed-sucking",
   "metadata": {},
   "source": [
    "5. U can either chose to replace,ignore or backslashreplace the character present to improve the situation\n"
   ]
  },
  {
   "cell_type": "code",
   "execution_count": 18,
   "id": "infrared-omaha",
   "metadata": {},
   "outputs": [
    {
     "name": "stdout",
     "output_type": "stream",
     "text": [
      "b'\\xca\\x91\\xca\\x92\\xca\\x93\\xca\\x94\\xca\\x95\\xca\\x97\\xca\\x98\\xca\\x99\\xca\\x9a\\xca\\x9b\\xca\\x9c\\xca\\x9d\\xca\\x9e'\n",
      "ʑʒʓʔʕʗʘʙʚʛʜʝʞ\n"
     ]
    }
   ],
   "source": [
    "unicode_text = u'ʑʒʓʔʕʗʘʙʚʛʜʝʞ'\n",
    "encoded_unicode = unicode_text.encode(\"utf8\")\n",
    "\n",
    "print(encoded_unicode)\n",
    "print(unicode_text)"
   ]
  },
  {
   "cell_type": "markdown",
   "id": "intended-queue",
   "metadata": {},
   "source": [
    "U can use the .encode(desired_unicode) to set the encoding parameter of a particular text "
   ]
  },
  {
   "cell_type": "markdown",
   "id": "intermediate-utility",
   "metadata": {},
   "source": [
    "7. ASCII is a perfect subset of Unicode. The first 128 characters in the Unicode table correspond precisely to the ASCII characters "
   ]
  },
  {
   "cell_type": "code",
   "execution_count": null,
   "id": "contrary-responsibility",
   "metadata": {},
   "outputs": [],
   "source": []
  },
  {
   "cell_type": "code",
   "execution_count": 23,
   "id": "allied-shooting",
   "metadata": {},
   "outputs": [
    {
     "name": "stdout",
     "output_type": "stream",
     "text": [
      "String with the use of Single Quotes: \n",
      "I'm a student at Ineuron\n",
      "\n",
      "String with the use of Double Quotes: \n",
      "I'm a student at Ineuron\n",
      "<class 'str'>\n",
      "\n",
      "String with the use of Triple Quotes: \n",
      "I'm a student at \"Ineuron\"\n",
      "<class 'str'>\n",
      "\n",
      "Creating a multiline String: \n",
      "Ineuron\n",
      "            ML\n",
      "            DL\n"
     ]
    }
   ],
   "source": [
    "#8\n",
    "String1 = 'I\\'m a student at Ineuron'\n",
    "print(\"String with the use of Single Quotes: \")\n",
    "print(String1)\n",
    "   \n",
    "# Creating a String\n",
    "# with double Quotes\n",
    "String1 = \"I'm a student at Ineuron\"\n",
    "print(\"\\nString with the use of Double Quotes: \")\n",
    "print(String1)\n",
    "print(type(String1))\n",
    "   \n",
    "# Creating a String\n",
    "# with triple Quotes\n",
    "String1 = '''I'm a student at \"Ineuron\"'''\n",
    "print(\"\\nString with the use of Triple Quotes: \")\n",
    "print(String1)\n",
    "print(type(String1))\n",
    " \n",
    "# Creating String with triple\n",
    "# Quotes allows multiple lines\n",
    "String1 = '''Ineuron\n",
    "            ML\n",
    "            DL'''\n",
    "print(\"\\nCreating a multiline String: \")\n",
    "print(String1)"
   ]
  },
  {
   "cell_type": "markdown",
   "id": "friendly-accountability",
   "metadata": {},
   "source": [
    "The above example illustrates the level of effect different types of string implementations and its effects in the output"
   ]
  },
  {
   "cell_type": "code",
   "execution_count": null,
   "id": "wooden-smooth",
   "metadata": {},
   "outputs": [],
   "source": []
  }
 ],
 "metadata": {
  "kernelspec": {
   "display_name": "Python 3",
   "language": "python",
   "name": "python3"
  },
  "language_info": {
   "codemirror_mode": {
    "name": "ipython",
    "version": 3
   },
   "file_extension": ".py",
   "mimetype": "text/x-python",
   "name": "python",
   "nbconvert_exporter": "python",
   "pygments_lexer": "ipython3",
   "version": "3.7.6"
  }
 },
 "nbformat": 4,
 "nbformat_minor": 5
}
