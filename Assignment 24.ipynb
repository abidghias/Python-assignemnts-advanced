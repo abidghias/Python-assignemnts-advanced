{
 "cells": [
  {
   "cell_type": "markdown",
   "id": "cf44af31",
   "metadata": {},
   "source": [
    "1. Nothing, if a module has already been imported, it's not loaded again.\n",
    "\n",
    "You will simply get a reference to the module that has already been imported (it will come from sys.modules).\n",
    "\n",
    "To get a list of the modules that have already been imported, you can look up sys.modules.keys() (note that urllibhere imports a lot of other modules): "
   ]
  },
  {
   "cell_type": "code",
   "execution_count": 2,
   "id": "f661875f",
   "metadata": {},
   "outputs": [
    {
     "name": "stdout",
     "output_type": "stream",
     "text": [
      "['__doc__', '__loader__', '__name__', '__package__', '__spec__', 'acos', 'acosh', 'asin', 'asinh', 'atan', 'atan2', 'atanh', 'ceil', 'comb', 'copysign', 'cos', 'cosh', 'degrees', 'dist', 'e', 'erf', 'erfc', 'exp', 'expm1', 'fabs', 'factorial', 'floor', 'fmod', 'frexp', 'fsum', 'gamma', 'gcd', 'hypot', 'inf', 'isclose', 'isfinite', 'isinf', 'isnan', 'isqrt', 'ldexp', 'lgamma', 'log', 'log10', 'log1p', 'log2', 'modf', 'nan', 'perm', 'pi', 'pow', 'prod', 'radians', 'remainder', 'sin', 'sinh', 'sqrt', 'tan', 'tanh', 'tau', 'trunc']\n"
     ]
    }
   ],
   "source": [
    "#2 dir gives all the possible functions already stored inside this math module\n",
    "import math\n",
    "\n",
    "content = dir(math)\n",
    "print(content)"
   ]
  },
  {
   "cell_type": "code",
   "execution_count": 6,
   "id": "8a3f78d0",
   "metadata": {},
   "outputs": [
    {
     "ename": "ModuleNotFoundError",
     "evalue": "No module named 'b'",
     "output_type": "error",
     "traceback": [
      "\u001b[1;31m---------------------------------------------------------------------------\u001b[0m",
      "\u001b[1;31mModuleNotFoundError\u001b[0m                       Traceback (most recent call last)",
      "\u001b[1;32m<ipython-input-6-0c1b97fb44f3>\u001b[0m in \u001b[0;36m<module>\u001b[1;34m\u001b[0m\n\u001b[0;32m      3\u001b[0m \u001b[1;31m#Consider a.py:\u001b[0m\u001b[1;33m\u001b[0m\u001b[1;33m\u001b[0m\u001b[1;33m\u001b[0m\u001b[0m\n\u001b[0;32m      4\u001b[0m \u001b[1;33m\u001b[0m\u001b[0m\n\u001b[1;32m----> 5\u001b[1;33m \u001b[1;32mimport\u001b[0m \u001b[0mb\u001b[0m\u001b[1;33m\u001b[0m\u001b[1;33m\u001b[0m\u001b[0m\n\u001b[0m\u001b[0;32m      6\u001b[0m \u001b[1;33m\u001b[0m\u001b[0m\n\u001b[0;32m      7\u001b[0m \u001b[1;32mclass\u001b[0m \u001b[0mA\u001b[0m\u001b[1;33m:\u001b[0m\u001b[1;33m\u001b[0m\u001b[1;33m\u001b[0m\u001b[0m\n",
      "\u001b[1;31mModuleNotFoundError\u001b[0m: No module named 'b'"
     ]
    }
   ],
   "source": [
    "#Only import the module, don't import from the module:\n",
    "\n",
    "#Consider a.py:\n",
    "\n",
    "import b\n",
    "\n",
    "class A:\n",
    "    def bar(self):\n",
    "        return b.B()\n",
    "#and b.py:\n",
    "\n",
    "import a\n",
    "\n",
    "class B:\n",
    "    def bar(self):\n",
    "        return a.A()"
   ]
  },
  {
   "cell_type": "markdown",
   "id": "a5345f53",
   "metadata": {},
   "source": [
    "- in your models you’re importing db from a main file\n",
    "- and then you want to import those models into your main file\n",
    "- in the main file: the import from the models should come after the db instantiation."
   ]
  },
  {
   "cell_type": "markdown",
   "id": "738ee280",
   "metadata": {},
   "source": [
    "4. \n",
    "It declares the semantically \"public\" names from a module. If there is a name in __all__, users are expected to use it, and they can have the expectation that it will not change.\n",
    "\n",
    "It also will have programmatic effects:\n",
    "\n",
    "import *\n",
    "__all__ in a module, e.g. module.py:\n",
    "\n",
    "__all__ = ['foo', 'Bar']\n",
    "means that when you import * from the module, only those names in the __all__ are imported:\n",
    "\n",
    "from module import *       "
   ]
  },
  {
   "cell_type": "code",
   "execution_count": 7,
   "id": "b16d8214",
   "metadata": {},
   "outputs": [
    {
     "name": "stdout",
     "output_type": "stream",
     "text": [
      "Always executed\n",
      "Executed when invoked directly\n"
     ]
    }
   ],
   "source": [
    "print (\"Always executed\")\n",
    " \n",
    "if __name__ == \"__main__\":\n",
    "    print (\"Executed when invoked directly\")\n",
    "else:\n",
    "    print (\"Executed when imported\")"
   ]
  },
  {
   "cell_type": "markdown",
   "id": "a197cdcf",
   "metadata": {},
   "source": [
    "Before executing code, Python interpreter reads source file and define few special variables/global variables. \n",
    "If the python interpreter is running that module (the source file) as the main program, it sets the special __name__ variable to have a value “__main__”. If this file is being imported from another module, __name__ will be set to the module’s name. Module’s name is available as value to __name__ global variable. \n",
    "\n",
    "A module is a file containing Python definitions and statements. The file name is the module name with the suffix .py appended. "
   ]
  },
  {
   "cell_type": "markdown",
   "id": "4edbbd19",
   "metadata": {},
   "source": [
    "6. When you write an expression in a programming language, the parser (the part of the interpreter or compiler that understands the language) turns that expression into a tree, where each node of the tree is an operation, and each child of that node is an operand of the expression. For example,\n",
    "\n",
    "f(3 + 4)\n",
    "might be a \"function call\" node, whose first child is the name f, and whose second child is an \"add\" node. The children of the \"add\" node are \"literal\" nodes (i.e. values) whose values are 3 and 4."
   ]
  },
  {
   "cell_type": "code",
   "execution_count": 8,
   "id": "644f063c",
   "metadata": {},
   "outputs": [
    {
     "ename": "NameError",
     "evalue": "name 'f' is not defined",
     "output_type": "error",
     "traceback": [
      "\u001b[1;31m---------------------------------------------------------------------------\u001b[0m",
      "\u001b[1;31mNameError\u001b[0m                                 Traceback (most recent call last)",
      "\u001b[1;32m<ipython-input-8-406c89a9a574>\u001b[0m in \u001b[0;36m<module>\u001b[1;34m\u001b[0m\n\u001b[1;32m----> 1\u001b[1;33m \u001b[0mf\u001b[0m\u001b[1;33m(\u001b[0m\u001b[1;36m3\u001b[0m \u001b[1;33m+\u001b[0m \u001b[1;36m4\u001b[0m\u001b[1;33m)\u001b[0m\u001b[1;33m\u001b[0m\u001b[1;33m\u001b[0m\u001b[0m\n\u001b[0m",
      "\u001b[1;31mNameError\u001b[0m: name 'f' is not defined"
     ]
    }
   ],
   "source": [
    "f(3 + 4)"
   ]
  },
  {
   "cell_type": "code",
   "execution_count": null,
   "id": "5f255661",
   "metadata": {},
   "outputs": [],
   "source": []
  }
 ],
 "metadata": {
  "kernelspec": {
   "display_name": "Python 3",
   "language": "python",
   "name": "python3"
  },
  "language_info": {
   "codemirror_mode": {
    "name": "ipython",
    "version": 3
   },
   "file_extension": ".py",
   "mimetype": "text/x-python",
   "name": "python",
   "nbconvert_exporter": "python",
   "pygments_lexer": "ipython3",
   "version": "3.8.8"
  }
 },
 "nbformat": 4,
 "nbformat_minor": 5
}
