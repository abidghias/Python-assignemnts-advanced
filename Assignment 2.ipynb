{
 "cells": [
  {
   "cell_type": "markdown",
   "id": "signal-conviction",
   "metadata": {},
   "source": [
    "1. \n",
    "    * Modules are collections of methods and constants. They cannot generate instances. Classes may generate instances (objects)\n",
    "    *  a class can be instantiated but a module cannot. A module will never be anything other than a library of methods. A class can be so much more -- it can hold its state (by keeping track of instance variables) and be duplicated as many times as you want."
   ]
  },
  {
   "cell_type": "markdown",
   "id": "introductory-topic",
   "metadata": {},
   "source": [
    "2. \n",
    "\n",
    "    A Class is like an object constructor, or a \"blueprint\" for creating objects."
   ]
  },
  {
   "cell_type": "code",
   "execution_count": 1,
   "id": "posted-request",
   "metadata": {},
   "outputs": [],
   "source": [
    "class Person:\n",
    "    def __init__(self, name, age):\n",
    "        self.name = name\n",
    "        self.age = age\n",
    "\n",
    "p1 = Person(\"John\", 36)"
   ]
  },
  {
   "cell_type": "markdown",
   "id": "proved-conviction",
   "metadata": {},
   "source": [
    "So class is person and p1 is an instance of classs person "
   ]
  },
  {
   "cell_type": "markdown",
   "id": "statistical-likelihood",
   "metadata": {},
   "source": [
    "3. \n",
    "\n",
    "    Class attributes are attributes which are owned by the class itself. They will be shared by all the instances of the class. Therefore they have the same value for every instance. We define class attributes outside all the methods, usually they are placed at the top, right below the class header"
   ]
  },
  {
   "cell_type": "code",
   "execution_count": 2,
   "id": "reported-combine",
   "metadata": {},
   "outputs": [],
   "source": [
    "class Polygon:\n",
    "    def __init__(self, no_of_sides):\n",
    "        self.n = no_of_sides\n",
    "        self.sides = [0 for i in range(no_of_sides)]\n",
    "\n",
    "    def inputSides(self):\n",
    "        self.sides = [float(input(\"Enter side \"+str(i+1)+\" : \")) for i in range(self.n)]\n",
    "\n",
    "    def dispSides(self):\n",
    "        for i in range(self.n):\n",
    "            print(\"Side\",i+1,\"is\",self.sides[i])"
   ]
  },
  {
   "cell_type": "markdown",
   "id": "round-johns",
   "metadata": {},
   "source": [
    "All the methods inside the polygon class are the attributes (init,inputSides and dispSides).\n"
   ]
  },
  {
   "cell_type": "markdown",
   "id": "rapid-circus",
   "metadata": {},
   "source": [
    "4. The instance attribute is only accessible from the scope of an object. The class attribute is accessible as both a property of the class and as a property of objects, as it is shared between all of them."
   ]
  },
  {
   "cell_type": "code",
   "execution_count": 4,
   "id": "mobile-evolution",
   "metadata": {},
   "outputs": [],
   "source": [
    "class ExampleClass(object):\n",
    "    class_attr = 0\n",
    "\n",
    "    def __init__(self, instance_attr):\n",
    "        self.instance_attr = instance_attr"
   ]
  },
  {
   "cell_type": "markdown",
   "id": "environmental-office",
   "metadata": {},
   "source": [
    "class_atr is a class attribute and instance_attr declared inside the __init__ method is an instance attribute"
   ]
  },
  {
   "cell_type": "markdown",
   "id": "hidden-runner",
   "metadata": {},
   "source": [
    "5. The self keyword is used to access the attributes and methods of the class. self just represents an instance of the class"
   ]
  },
  {
   "cell_type": "code",
   "execution_count": 5,
   "id": "bronze-humor",
   "metadata": {},
   "outputs": [
    {
     "name": "stdout",
     "output_type": "stream",
     "text": [
      "3\n"
     ]
    }
   ],
   "source": [
    "#6\n",
    "class Purchase:\n",
    "    def __init__(self, basket, buyer):\n",
    "        self.basket = list(basket)\n",
    "        self.buyer = buyer\n",
    "\n",
    "    def __len__(self):\n",
    "        return len(self.basket)\n",
    "\n",
    "purchase = Purchase(['pen', 'book', 'pencil'], 'Python')\n",
    "print(len(purchase))\n",
    "#Anytime we pass an object of our class to len(), the result will be obtained by calling our custom defined function, that is, _len_()\n",
    "#instead of the python defined len function. This is function overloading"
   ]
  },
  {
   "cell_type": "code",
   "execution_count": 11,
   "id": "distant-dealer",
   "metadata": {},
   "outputs": [
    {
     "ename": "TypeError",
     "evalue": "__init__() takes from 1 to 2 positional arguments but 3 were given",
     "output_type": "error",
     "traceback": [
      "\u001b[1;31m---------------------------------------------------------------------------\u001b[0m",
      "\u001b[1;31mTypeError\u001b[0m                                 Traceback (most recent call last)",
      "\u001b[1;32m<ipython-input-11-d65cbebc61a1>\u001b[0m in \u001b[0;36m<module>\u001b[1;34m()\u001b[0m\n\u001b[0;32m      5\u001b[0m \u001b[1;33m\u001b[0m\u001b[0m\n\u001b[0;32m      6\u001b[0m \u001b[1;33m\u001b[0m\u001b[0m\n\u001b[1;32m----> 7\u001b[1;33m \u001b[0mp1\u001b[0m \u001b[1;33m=\u001b[0m \u001b[0mPoint\u001b[0m\u001b[1;33m(\u001b[0m\u001b[1;36m1\u001b[0m\u001b[1;33m,\u001b[0m \u001b[1;36m2\u001b[0m\u001b[1;33m)\u001b[0m\u001b[1;33m\u001b[0m\u001b[1;33m\u001b[0m\u001b[0m\n\u001b[0m\u001b[0;32m      8\u001b[0m \u001b[0mp2\u001b[0m \u001b[1;33m=\u001b[0m \u001b[0mPoint\u001b[0m\u001b[1;33m(\u001b[0m\u001b[1;36m2\u001b[0m\u001b[1;33m,\u001b[0m \u001b[1;36m3\u001b[0m\u001b[1;33m)\u001b[0m\u001b[1;33m\u001b[0m\u001b[1;33m\u001b[0m\u001b[0m\n\u001b[0;32m      9\u001b[0m \u001b[0mprint\u001b[0m\u001b[1;33m(\u001b[0m\u001b[0mp1\u001b[0m\u001b[1;33m+\u001b[0m\u001b[0mp2\u001b[0m\u001b[1;33m)\u001b[0m\u001b[1;33m\u001b[0m\u001b[1;33m\u001b[0m\u001b[0m\n",
      "\u001b[1;31mTypeError\u001b[0m: __init__() takes from 1 to 2 positional arguments but 3 were given"
     ]
    }
   ],
   "source": [
    "class Point:\n",
    "    def __init__(self, x=0, y=0):\n",
    "        self.x = x\n",
    "        self.y = y\n",
    "\n",
    "\n",
    "p1 = Point(1, 2)\n",
    "p2 = Point(2, 3)\n",
    "print(p1+p2)"
   ]
  },
  {
   "cell_type": "markdown",
   "id": "prostate-marketing",
   "metadata": {},
   "source": [
    "This can be overcome by "
   ]
  },
  {
   "cell_type": "code",
   "execution_count": 12,
   "id": "worth-sitting",
   "metadata": {},
   "outputs": [],
   "source": [
    "class Point:\n",
    "    def __init__(self, x=0, y=0):\n",
    "        self.x = x\n",
    "        self.y = y\n",
    "\n",
    "    def __str__(self):\n",
    "        return \"({0},{1})\".format(self.x, self.y)\n",
    "\n",
    "    def __add__(self, other):\n",
    "        x = self.x + other.x\n",
    "        y = self.y + other.y\n",
    "        return Point(x, y)"
   ]
  },
  {
   "cell_type": "code",
   "execution_count": 13,
   "id": "declared-conservation",
   "metadata": {},
   "outputs": [
    {
     "name": "stdout",
     "output_type": "stream",
     "text": [
      "(3,5)\n"
     ]
    }
   ],
   "source": [
    "p1 = Point(1, 2)\n",
    "p2 = Point(2, 3)\n",
    "\n",
    "print(p1+p2)"
   ]
  },
  {
   "cell_type": "markdown",
   "id": "suited-subdivision",
   "metadata": {},
   "source": [
    "__str__ is a special function which prints when the object itself is called... It returns the 2 points which can be added with the second object"
   ]
  },
  {
   "cell_type": "code",
   "execution_count": 16,
   "id": "changing-latvia",
   "metadata": {},
   "outputs": [
    {
     "name": "stdout",
     "output_type": "stream",
     "text": [
      "(3,5)\n"
     ]
    }
   ],
   "source": [
    "print(p1.__add__(p2))\n",
    "#__add__ is also another special function which supports operator overloading"
   ]
  },
  {
   "cell_type": "markdown",
   "id": "respective-lodging",
   "metadata": {},
   "source": [
    "7.  enables programmers to use notation closer to the target domain. ...\n",
    "    \n",
    "    \n",
    "    Helps us to define a custom method for the same built in method by overriding it"
   ]
  },
  {
   "cell_type": "raw",
   "id": "actual-support",
   "metadata": {},
   "source": [
    "8. \n",
    "    There is no specific method overloading in python which is preferred over another"
   ]
  },
  {
   "cell_type": "markdown",
   "id": "purple-shopper",
   "metadata": {},
   "source": [
    "9. We need to understand 2 things\n",
    " 1. Class\n",
    " 2. Object"
   ]
  },
  {
   "cell_type": "code",
   "execution_count": null,
   "id": "occasional-aberdeen",
   "metadata": {},
   "outputs": [],
   "source": []
  }
 ],
 "metadata": {
  "kernelspec": {
   "display_name": "Python 3",
   "language": "python",
   "name": "python3"
  },
  "language_info": {
   "codemirror_mode": {
    "name": "ipython",
    "version": 3
   },
   "file_extension": ".py",
   "mimetype": "text/x-python",
   "name": "python",
   "nbconvert_exporter": "python",
   "pygments_lexer": "ipython3",
   "version": "3.7.6"
  }
 },
 "nbformat": 4,
 "nbformat_minor": 5
}
