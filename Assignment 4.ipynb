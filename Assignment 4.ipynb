{
 "cells": [
  {
   "cell_type": "code",
   "execution_count": 17,
   "id": "molecular-township",
   "metadata": {},
   "outputs": [],
   "source": [
    "class InfIter:\n",
    "    \"\"\"Infinite iterator to return all\n",
    "        odd numbers\"\"\"\n",
    "\n",
    "    def __iter__(self):\n",
    "        self.num = 1\n",
    "        return self\n",
    "\n",
    "    def __next__(self):\n",
    "        num = self.num\n",
    "        self.num += 2\n",
    "        return num\n",
    "    \n",
    "    def __str__(self):\n",
    "        return str(self.num)\n",
    "    \n",
    "#__iter__ and __next__ are the two most common operator overloading methods"
   ]
  },
  {
   "cell_type": "code",
   "execution_count": 19,
   "id": "rural-copyright",
   "metadata": {},
   "outputs": [
    {
     "data": {
      "text/plain": [
       "1"
      ]
     },
     "execution_count": 19,
     "metadata": {},
     "output_type": "execute_result"
    }
   ],
   "source": [
    "a = iter(InfIter())\n",
    "\n",
    "next(a)"
   ]
  },
  {
   "cell_type": "markdown",
   "id": "early-wells",
   "metadata": {},
   "source": [
    "2. \n",
    "    So the return key-word returns the argument and prints the output when that method is called.\n",
    "    \n",
    "    In this case, class InfIter's iter method is called and object is created with the name as a, Each time an odd number needs to be printed we use the next method defined. \n",
    "    \n",
    "    Str  method prints the necessary message for the class"
   ]
  },
  {
   "cell_type": "code",
   "execution_count": 20,
   "id": "dated-particular",
   "metadata": {},
   "outputs": [
    {
     "name": "stdout",
     "output_type": "stream",
     "text": [
      "3\n"
     ]
    }
   ],
   "source": [
    "print(a)"
   ]
  },
  {
   "cell_type": "code",
   "execution_count": 21,
   "id": "extended-denmark",
   "metadata": {},
   "outputs": [
    {
     "name": "stderr",
     "output_type": "stream",
     "text": [
      "C:\\Users\\abidg\\anaconda3\\lib\\site-packages\\ipykernel_launcher.py:2: DeprecationWarning: Using or importing the ABCs from 'collections' instead of from 'collections.abc' is deprecated since Python 3.3,and in 3.9 it will stop working\n",
      "  \n"
     ]
    }
   ],
   "source": [
    "#3\n",
    "from collections import Sequence\n",
    " \n",
    "class MyStructure(Sequence):\n",
    "    def __init__(self):\n",
    "        self.data = []\n",
    " \n",
    "    def __len__(self):\n",
    "        return len(self.data)\n",
    " \n",
    "    def append(self, item):\n",
    "        self.data.append(item)\n",
    " \n",
    "    def remove(self, item):\n",
    "        self.data.remove(item)\n",
    " \n",
    "    def __repr__(self):\n",
    "        return str(self.data)\n",
    " \n",
    "    def __getitem__(self, sliced):\n",
    "        return self.data[sliced]"
   ]
  },
  {
   "cell_type": "code",
   "execution_count": 25,
   "id": "ahead-synthetic",
   "metadata": {},
   "outputs": [
    {
     "data": {
      "text/plain": [
       "['Second element', 'Third element']"
      ]
     },
     "execution_count": 25,
     "metadata": {},
     "output_type": "execute_result"
    }
   ],
   "source": [
    "m = MyStructure()\n",
    "m.append('First element')\n",
    "m.append('Second element')\n",
    "m.append('Third element')\n",
    "#slicing in class\n",
    "m[1:3]"
   ]
  },
  {
   "cell_type": "code",
   "execution_count": 28,
   "id": "conservative-generation",
   "metadata": {},
   "outputs": [],
   "source": [
    "#4\n",
    "class Matrix:\n",
    "\n",
    "    def __init__(self, a, b, c, d):\n",
    "        self.data = [a, b, c, d]\n",
    "\n",
    "    def __str__(self):\n",
    "        return '[{}, {}][{}, {}]'.format(self.data[0],\n",
    "                                         self.data[1],\n",
    "                                         self.data[2],\n",
    "                                         self.data[3])\n",
    "    \n",
    "    def __iadd__(self, other):\n",
    "        if isinstance(other, Matrix):\n",
    "            self.data[0] += other.data[0]\n",
    "            self.data[1] += other.data[1]\n",
    "            self.data[2] += other.data[2]\n",
    "            self.data[3] += other.data[3]\n",
    "            return self\n",
    "        else:\n",
    "            return NotImplemented\n",
    "#so changes made to the matrix is automatically updated in the class itself"
   ]
  },
  {
   "cell_type": "code",
   "execution_count": 29,
   "id": "electoral-morrison",
   "metadata": {},
   "outputs": [
    {
     "name": "stdout",
     "output_type": "stream",
     "text": [
      "[11, 22][33, 44] [11, 22][33, 44]\n"
     ]
    }
   ],
   "source": [
    "a = Matrix(10, 20, 30, 40)\n",
    "b = a\n",
    "a += Matrix(1, 2, 3, 4)\n",
    "print(a, b)   "
   ]
  },
  {
   "cell_type": "code",
   "execution_count": 32,
   "id": "secret-lunch",
   "metadata": {},
   "outputs": [],
   "source": [
    "#Another example of operater overloadind \n",
    "# here it is useful when we want to return certain objects from a list, we can declare out own methods and use it \n",
    "class Order:\n",
    "    def __init__(self, cart, customer):\n",
    "        self.cart = list(cart)\n",
    "        self.customer = customer\n",
    "        \n",
    "    def __getitem__(self, key):\n",
    "        return self.cart[key]"
   ]
  },
  {
   "cell_type": "code",
   "execution_count": 33,
   "id": "large-religious",
   "metadata": {},
   "outputs": [
    {
     "data": {
      "text/plain": [
       "'banana'"
      ]
     },
     "execution_count": 33,
     "metadata": {},
     "output_type": "execute_result"
    }
   ],
   "source": [
    "order = Order(['banana', 'apple'], 'Real Python')\n",
    "order[0]"
   ]
  },
  {
   "cell_type": "code",
   "execution_count": null,
   "id": "scenic-defendant",
   "metadata": {},
   "outputs": [],
   "source": []
  }
 ],
 "metadata": {
  "kernelspec": {
   "display_name": "Python 3",
   "language": "python",
   "name": "python3"
  },
  "language_info": {
   "codemirror_mode": {
    "name": "ipython",
    "version": 3
   },
   "file_extension": ".py",
   "mimetype": "text/x-python",
   "name": "python",
   "nbconvert_exporter": "python",
   "pygments_lexer": "ipython3",
   "version": "3.7.6"
  }
 },
 "nbformat": 4,
 "nbformat_minor": 5
}
